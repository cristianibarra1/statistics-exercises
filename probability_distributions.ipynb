{
 "cells": [
  {
   "cell_type": "code",
   "execution_count": 5,
   "id": "46e4a5a3",
   "metadata": {},
   "outputs": [],
   "source": [
    "import numpy as np\n",
    "import pandas as pd\n",
    "import random\n",
    "\n",
    "from scipy import stats\n",
    "from math import e, factorial\n",
    "from env import user, host, password\n",
    "\n",
    "import matplotlib.pyplot as plt"
   ]
  },
  {
   "cell_type": "code",
   "execution_count": 13,
   "id": "e2ca6bc9",
   "metadata": {},
   "outputs": [
    {
     "data": {
      "text/plain": [
       "0.1353352832366127"
      ]
     },
     "execution_count": 13,
     "metadata": {},
     "output_type": "execute_result"
    }
   ],
   "source": [
    "# A bank found that the average number of cars waiting during the noon hour at a drive-up window \n",
    "# follows a Poisson distribution with a mean of 2 cars. Make a chart of this distribution \n",
    "# and answer these questions concerning the probability of cars waiting at the drive-up window.\n",
    "mean=2\n",
    "cars=stats.poisson(mean)"
   ]
  },
  {
   "cell_type": "code",
   "execution_count": 14,
   "id": "e26c573b",
   "metadata": {},
   "outputs": [
    {
     "data": {
      "text/plain": [
       "0.1353352832366127"
      ]
     },
     "execution_count": 14,
     "metadata": {},
     "output_type": "execute_result"
    }
   ],
   "source": [
    "# What is the probability that no cars drive up in the noon hour?\n",
    "cars.pmf(0)"
   ]
  },
  {
   "cell_type": "code",
   "execution_count": 26,
   "id": "475285a8",
   "metadata": {},
   "outputs": [
    {
     "data": {
      "text/plain": [
       "0.32332358381693654"
      ]
     },
     "execution_count": 26,
     "metadata": {},
     "output_type": "execute_result"
    }
   ],
   "source": [
    "# What is the probability that 3 or more cars come through the drive through?\n",
    "cars.sf(2)"
   ]
  },
  {
   "cell_type": "code",
   "execution_count": 27,
   "id": "49e96dc6",
   "metadata": {},
   "outputs": [
    {
     "data": {
      "text/plain": [
       "0.8646647167633873"
      ]
     },
     "execution_count": 27,
     "metadata": {},
     "output_type": "execute_result"
    }
   ],
   "source": [
    "# How likely is it that the drive through gets at least 1 car?\n",
    "cars.sf(0)"
   ]
  },
  {
   "cell_type": "code",
   "execution_count": 39,
   "id": "2a800beb",
   "metadata": {},
   "outputs": [],
   "source": [
    "# Grades of State University graduates are normally distributed with a mean of 3.0 and a standard deviation of .3.\n",
    "# Calculate the following:\n",
    "mean=3.0\n",
    "std=.3\n",
    "grades=stats.norm(mean,std)"
   ]
  },
  {
   "cell_type": "code",
   "execution_count": 40,
   "id": "61ee6239",
   "metadata": {},
   "outputs": [
    {
     "data": {
      "text/plain": [
       "3.4934560880854417"
      ]
     },
     "execution_count": 40,
     "metadata": {},
     "output_type": "execute_result"
    }
   ],
   "source": [
    "# What grade point average is required to be in the top 5% of the graduating class?\n",
    "grades.isf(.05)"
   ]
  },
  {
   "cell_type": "code",
   "execution_count": 45,
   "id": "969ecb3d",
   "metadata": {},
   "outputs": [
    {
     "data": {
      "text/plain": [
       "2.689069983151863"
      ]
     },
     "execution_count": 45,
     "metadata": {},
     "output_type": "execute_result"
    }
   ],
   "source": [
    "# What GPA constitutes the bottom 15% of the class?\n",
    "grades.ppf(.15)"
   ]
  },
  {
   "cell_type": "code",
   "execution_count": null,
   "id": "8f2118da",
   "metadata": {},
   "outputs": [],
   "source": [
    "# An eccentric alumnus left scholarship money for students in the third decile from the bottom of their class. \n",
    "# Determine the range of the third decile. Would a student with a 2.8 grade point average qualify \n",
    "# for this scholarship?\n"
   ]
  },
  {
   "cell_type": "code",
   "execution_count": 47,
   "id": "ea4ff3da",
   "metadata": {},
   "outputs": [
    {
     "data": {
      "text/plain": [
       "0.9522096477271853"
      ]
     },
     "execution_count": 47,
     "metadata": {},
     "output_type": "execute_result"
    }
   ],
   "source": [
    "# If I have a GPA of 3.5, what percentile am I in?\n",
    "grades.cdf(3.5)\n",
    "96 percent "
   ]
  },
  {
   "cell_type": "code",
   "execution_count": 51,
   "id": "cf2c05bf",
   "metadata": {},
   "outputs": [
    {
     "data": {
      "text/plain": [
       "0.13975823631416448"
      ]
     },
     "execution_count": 51,
     "metadata": {},
     "output_type": "execute_result"
    }
   ],
   "source": [
    "# A marketing website has an average click-through rate of 2%. One day they observe 4326 visitors and 97 \n",
    "# click-throughs. How likely is it that this many people or more click through?\n",
    "click=.02\n",
    "visitors=4326\n",
    "rate=stats.binom(visitors,click)\n",
    "rate.sf(96)"
   ]
  },
  {
   "cell_type": "code",
   "execution_count": 62,
   "id": "035b3dca",
   "metadata": {},
   "outputs": [],
   "source": [
    "# You are working on some statistics homework consisting of 100 questions where all of the answers are \n",
    "# a probability rounded to the hundreths place. Looking to save time, you put down random probabilities as\n",
    "# the answer to each question.\n",
    "questions=60\n",
    "probability=.01\n",
    "answer=stats.binom(questions,probability)"
   ]
  },
  {
   "cell_type": "code",
   "execution_count": 73,
   "id": "aff5997c",
   "metadata": {},
   "outputs": [
    {
     "data": {
      "text/plain": [
       "1.0"
      ]
     },
     "execution_count": 73,
     "metadata": {},
     "output_type": "execute_result"
    }
   ],
   "source": [
    "# What is the probability that at least one of your first 60 answers is correct?\n",
    "answer.sf(-1)"
   ]
  },
  {
   "cell_type": "code",
   "execution_count": 86,
   "id": "bcf2fb35",
   "metadata": {},
   "outputs": [
    {
     "data": {
      "text/plain": [
       "0.2636464721790449"
      ]
     },
     "execution_count": 86,
     "metadata": {},
     "output_type": "execute_result"
    }
   ],
   "source": [
    "# The codeup staff tends to get upset when the student break area is not cleaned up. Suppose that there's a 3% \n",
    "# chance that any one student cleans the break area when they visit it, and, on any given day, about 90% of the 3 \n",
    "# active cohorts of 22 students visit the break area. How likely is it that the break area gets cleaned up each day?\n",
    "# How likely is it that it goes two days without getting cleaned up? All week?\n",
    "prob = .03\n",
    "trials = (22 * 3) * .9\n",
    "breaking=stats.binom(trials,prob)\n",
    "breaking.sf(2)"
   ]
  },
  {
   "cell_type": "code",
   "execution_count": 90,
   "id": "4ee5f9b4",
   "metadata": {},
   "outputs": [
    {
     "data": {
      "text/plain": [
       "0.0003891743417893634"
      ]
     },
     "execution_count": 90,
     "metadata": {},
     "output_type": "execute_result"
    }
   ],
   "source": [
    "# All week?\n",
    "prob = .03\n",
    "trials = (22 * 3) * .9\n",
    "breaking=stats.binom(trials,prob)\n",
    "breaking.sf(7)"
   ]
  },
  {
   "cell_type": "code",
   "execution_count": 97,
   "id": "1fddce68",
   "metadata": {},
   "outputs": [
    {
     "data": {
      "text/plain": [
       "0.7976716190363569"
      ]
     },
     "execution_count": 97,
     "metadata": {},
     "output_type": "execute_result"
    }
   ],
   "source": [
    "# You want to get lunch at La Panaderia, but notice that the line is usually very long at lunchtime.\n",
    "# After several weeks of careful observation, you notice that the average number of people in line when your lunch \n",
    "# break starts is normally distributed with a mean of 15 and standard deviation of 3. If it takes 2 minutes for \n",
    "# each person to order, and 10 minutes from ordering to getting your food, what is the likelihood that you have at\n",
    "# least 15 minutes left to eat your food before you have to go back to class? Assume you have one hour for lunch, and\n",
    "# ignore travel time to and from La Panaderia.\n",
    "mean=15\n",
    "std=3\n",
    "time=2\n",
    "order=10\n",
    "lunch=60\n",
    "maxtime=lunch-order-mean\n",
    "# trying to get 15 mins left \n",
    "#one hour for lunch = 60 mins \n",
    "food=maxtime/time\n",
    "stats.norm(mean,std).cdf(food)"
   ]
  },
  {
   "cell_type": "code",
   "execution_count": null,
   "id": "b6843f40",
   "metadata": {},
   "outputs": [],
   "source": [
    "# Connect to the employees database and find the average salary of current employees, along with the standard deviation. \n",
    "# For the following questions, calculate the answer based on modeling the employees salaries with a normal \n",
    "# distribution defined by the calculated mean and standard deviation then compare this answer to the actual values \n",
    "# present in the salaries dataset."
   ]
  },
  {
   "cell_type": "code",
   "execution_count": 112,
   "id": "3897dbd2",
   "metadata": {},
   "outputs": [],
   "source": [
    "def get_data_from_sql(user, host, password, database, query):\n",
    "    ''' take in user, host, password, database and query  Access sql database return a pandas dataframe of the query results   \n",
    "    '''\n",
    "    \n",
    "    url = f'mysql+pymysql://{user}:{password}@{host}/{database}'\n",
    "        \n",
    "    return pd.read_sql(query, url)"
   ]
  },
  {
   "cell_type": "code",
   "execution_count": 111,
   "id": "bb2871f9",
   "metadata": {},
   "outputs": [],
   "source": [
    "database = 'employees'\n",
    "\n",
    "query = \"\"\"\n",
    "\n",
    "SELECT salary\n",
    "FROM salaries\n",
    "\n",
    "where salaries.to_date = \"9999-01-01\"\n",
    "\n",
    "\"\"\"\n",
    "\n",
    "df = get_data_from_sql(user, host, password, database, query)"
   ]
  },
  {
   "cell_type": "code",
   "execution_count": 120,
   "id": "1c50c47c",
   "metadata": {},
   "outputs": [],
   "source": [
    "mean_salary = round(df.salary.mean(),0)\n",
    "sd_salary = round(df.salary.agg(np.std),0)"
   ]
  },
  {
   "cell_type": "code",
   "execution_count": 121,
   "id": "2428dde4",
   "metadata": {},
   "outputs": [
    {
     "data": {
      "text/plain": [
       "0.2438617554963023"
      ]
     },
     "execution_count": 121,
     "metadata": {},
     "output_type": "execute_result"
    }
   ],
   "source": [
    "# What percent of employees earn less than 60,000?\n",
    "stats.norm(mean_salary, sd_salary).cdf(60_000)"
   ]
  },
  {
   "cell_type": "code",
   "execution_count": 125,
   "id": "e3652da5",
   "metadata": {},
   "outputs": [
    {
     "data": {
      "text/plain": [
       "0.09208599994106093"
      ]
     },
     "execution_count": 125,
     "metadata": {},
     "output_type": "execute_result"
    }
   ],
   "source": [
    "# What percent of employees earn more than 95,000?\n",
    "stats.norm(mean_salary, sd_salary).sf(95_000)"
   ]
  },
  {
   "cell_type": "code",
   "execution_count": 135,
   "id": "2751d1e1",
   "metadata": {},
   "outputs": [
    {
     "data": {
      "text/plain": [
       "0.335060363819384"
      ]
     },
     "execution_count": 135,
     "metadata": {},
     "output_type": "execute_result"
    }
   ],
   "source": [
    "# What percent of employees earn between 65,000 and 80,000?\n",
    "one=stats.norm(mean_salary, sd_salary).cdf(65_000)\n",
    "two=stats.norm(mean_salary, sd_salary).cdf(80_000)\n",
    "two-one"
   ]
  },
  {
   "cell_type": "code",
   "execution_count": 137,
   "id": "18d3689a",
   "metadata": {},
   "outputs": [
    {
     "data": {
      "text/plain": [
       "100484.41628253"
      ]
     },
     "execution_count": 137,
     "metadata": {},
     "output_type": "execute_result"
    }
   ],
   "source": [
    "# What do the top 5% of employees make?\n",
    "stats.norm(mean_salary,sd_salary).isf(.05)"
   ]
  }
 ],
 "metadata": {
  "kernelspec": {
   "display_name": "Python 3 (ipykernel)",
   "language": "python",
   "name": "python3"
  },
  "language_info": {
   "codemirror_mode": {
    "name": "ipython",
    "version": 3
   },
   "file_extension": ".py",
   "mimetype": "text/x-python",
   "name": "python",
   "nbconvert_exporter": "python",
   "pygments_lexer": "ipython3",
   "version": "3.9.12"
  }
 },
 "nbformat": 4,
 "nbformat_minor": 5
}
