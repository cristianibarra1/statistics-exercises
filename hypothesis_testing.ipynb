{
 "cells": [
  {
   "cell_type": "code",
   "execution_count": 1,
   "id": "c196f9bb",
   "metadata": {},
   "outputs": [],
   "source": [
    "import numpy as np\n",
    "import seaborn as sns\n",
    "import scipy.stats as stats\n",
    "import pandas as pd\n",
    "import matplotlib.pyplot as plt\n",
    "from pydataset import data\n",
    "import env \n",
    "import os\n",
    "alpha = 0.05"
   ]
  },
  {
   "cell_type": "code",
   "execution_count": 5,
   "id": "03cf3a02",
   "metadata": {},
   "outputs": [],
   "source": [
    "# For each of the following questions, formulate a null and alternative hypothesis (be as specific as you can be),\n",
    "# then give an example of what a true positive, true negative, type I and type II errors would look like. \n",
    "# Note that some of the questions are intentionally phrased in a vague way. It is your job to reword these as \n",
    "# more precise questions that could be tested.\n",
    "\n",
    "# A type I error is when we reject the null hypothesis, but, in reality, the null hypothesis is true.\n",
    "# A type II error is when we fail to reject the null hypothesis when it is actually false.\n",
    "\n",
    "#             | H0 true      |   H0 false \n",
    "# Acccept H0  |True Negative |False Negative \n",
    "# Rejected H0 |False Positive|True Positive\n",
    "\n"
   ]
  },
  {
   "cell_type": "code",
   "execution_count": null,
   "id": "c50e27c9",
   "metadata": {},
   "outputs": [],
   "source": [
    "# When performing formal statistical hypothesis testing, the question being asked needs to be phrased as a null\n",
    "# hypothesis and an alternative hypothesis. The null hypothesis, is the \"status quo\", and usually reflects no chang\n",
    "# or no difference, while the alternative hypothesis says that there is a difference or change."
   ]
  },
  {
   "cell_type": "code",
   "execution_count": null,
   "id": "4817c990",
   "metadata": {},
   "outputs": [],
   "source": [
    "# Hypothesis\n",
    "# Has the network latency gone up since we switched internet service providers?\n",
    "# cheaper networks go faster \n",
    "# Alternative Hypothesis \n",
    "# expensive network go faster\n",
    "# Type I/Type II\n",
    "#             | H0 true          |   H0 false \n",
    "# Acccept H0  |cheap did go fast |cheap didnt go fast \n",
    "# Rejected H0 |expensice was slow|cheap was fast\n",
    "\n"
   ]
  },
  {
   "cell_type": "code",
   "execution_count": null,
   "id": "103f49d4",
   "metadata": {},
   "outputs": [],
   "source": [
    "# Hypothesis\n",
    "# Is the website redesign any good?\n",
    "# website got more views cause the new redisign \n",
    "# Alternative Hypothesis \n",
    "# website lost viewers\n",
    "# Type I/Type II\n",
    "#             | H0 true                    |   H0 false \n",
    "# Acccept H0  |website lost alot of viewrs |website gain more views \n",
    "# Rejected H0 |website was expectiong 3 time visits|website only got 1.2trime the visits"
   ]
  },
  {
   "cell_type": "code",
   "execution_count": 6,
   "id": "afcce627",
   "metadata": {},
   "outputs": [],
   "source": [
    "# Hypothesis \n",
    "# Is our television ad driving more sales?\n",
    "# televesion \n",
    "#alternative Hypothesis \n",
    "# ad making sale fo down\n",
    "#typeI and type II\n",
    "# Acccept H0  |adds lost alot of sale |add gain more sale\n",
    "# Rejected H0 |adds was expectiong 3 time sale|add only got 1.2trime the sales"
   ]
  },
  {
   "cell_type": "code",
   "execution_count": 7,
   "id": "5f5bd032",
   "metadata": {},
   "outputs": [],
   "source": [
    "## One Sample T-Test"
   ]
  },
  {
   "cell_type": "code",
   "execution_count": 10,
   "id": "433970dd",
   "metadata": {},
   "outputs": [],
   "source": [
    "####Comparing Means"
   ]
  },
  {
   "cell_type": "code",
   "execution_count": 12,
   "id": "7041161e",
   "metadata": {},
   "outputs": [],
   "source": [
    "# Ace Realty wants to determine whether the average time it takes to sell homes is different for its two offices. \n",
    "# A sample of 40 sales from office #1 revealed a mean of 90 days and a standard deviation of 15 days.\n",
    "# A sample of 50 sales from office #2 revealed a mean of 100 days and a standard deviation of 20 days. \n",
    "# Use a .05 level of significance."
   ]
  },
  {
   "cell_type": "code",
   "execution_count": 2,
   "id": "90d5a04a",
   "metadata": {
    "scrolled": true
   },
   "outputs": [
    {
     "data": {
      "image/png": "[encoded data removed]",
      "text/plain": [
       "<Figure size 432x288 with 2 Axes>"
      ]
     },
     "metadata": {
      "needs_background": "light"
     },
     "output_type": "display_data"
    }
   ],
   "source": [
    "sa1=40\n",
    "sa2=50\n",
    "sam1=90\n",
    "sam1_std=15\n",
    "sam2_mean=100\n",
    "sam2_std=20\n",
    "sales=stats.norm(sam1,sam1_std)\n",
    "sales2=stats.norm(sam2_mean,sam2_std)\n",
    "sale1 = sales.rvs(sa1)\n",
    "sale2 = sales2.rvs(sa2)\n",
    "\n",
    "plt.subplot(222)\n",
    "sns.histplot(sale1)\n",
    "plt.title('sale1')\n",
    "plt.subplot(221)\n",
    "sns.histplot(sale2)\n",
    "plt.title('sale2')\n",
    "α = .05\n"
   ]
  },
  {
   "cell_type": "code",
   "execution_count": 3,
   "id": "b3d50408",
   "metadata": {},
   "outputs": [
    {
     "data": {
      "text/plain": [
       "(87.35842608270865, 103.47630361388012)"
      ]
     },
     "execution_count": 3,
     "metadata": {},
     "output_type": "execute_result"
    }
   ],
   "source": [
    "sale1.mean(), sale2.mean()"
   ]
  },
  {
   "cell_type": "code",
   "execution_count": 8,
   "id": "21fdec66",
   "metadata": {},
   "outputs": [],
   "source": [
    "a, b = stats.levene(sale1, sale2)"
   ]
  },
  {
   "cell_type": "code",
   "execution_count": 9,
   "id": "3cc66290",
   "metadata": {},
   "outputs": [
    {
     "data": {
      "text/plain": [
       "True"
      ]
     },
     "execution_count": 9,
     "metadata": {},
     "output_type": "execute_result"
    }
   ],
   "source": [
    "b < α"
   ]
  },
  {
   "cell_type": "code",
   "execution_count": 10,
   "id": "13f6a0ae",
   "metadata": {},
   "outputs": [
    {
     "data": {
      "text/plain": [
       "True"
      ]
     },
     "execution_count": 10,
     "metadata": {},
     "output_type": "execute_result"
    }
   ],
   "source": [
    "t, p = stats.ttest_ind(sale1, sale2)\n",
    "b < α"
   ]
  },
  {
   "cell_type": "code",
   "execution_count": 11,
   "id": "69176fe6",
   "metadata": {},
   "outputs": [
    {
     "data": {
      "text/html": [
       "<div>\n",
       "<style scoped>\n",
       "    .dataframe tbody tr th:only-of-type {\n",
       "        vertical-align: middle;\n",
       "    }\n",
       "\n",
       "    .dataframe tbody tr th {\n",
       "        vertical-align: top;\n",
       "    }\n",
       "\n",
       "    .dataframe thead th {\n",
       "        text-align: right;\n",
       "    }\n",
       "</style>\n",
       "<table border=\"1\" class=\"dataframe\">\n",
       "  <thead>\n",
       "    <tr style=\"text-align: right;\">\n",
       "      <th></th>\n",
       "      <th>manufacturer</th>\n",
       "      <th>model</th>\n",
       "      <th>displ</th>\n",
       "      <th>year</th>\n",
       "      <th>cyl</th>\n",
       "      <th>trans</th>\n",
       "      <th>drv</th>\n",
       "      <th>cty</th>\n",
       "      <th>hwy</th>\n",
       "      <th>fl</th>\n",
       "      <th>class</th>\n",
       "      <th>eco</th>\n",
       "    </tr>\n",
       "  </thead>\n",
       "  <tbody>\n",
       "    <tr>\n",
       "      <th>1</th>\n",
       "      <td>audi</td>\n",
       "      <td>a4</td>\n",
       "      <td>1.8</td>\n",
       "      <td>1999</td>\n",
       "      <td>4</td>\n",
       "      <td>auto(l5)</td>\n",
       "      <td>f</td>\n",
       "      <td>18</td>\n",
       "      <td>29</td>\n",
       "      <td>p</td>\n",
       "      <td>compact</td>\n",
       "      <td>23.5</td>\n",
       "    </tr>\n",
       "    <tr>\n",
       "      <th>2</th>\n",
       "      <td>audi</td>\n",
       "      <td>a4</td>\n",
       "      <td>1.8</td>\n",
       "      <td>1999</td>\n",
       "      <td>4</td>\n",
       "      <td>manual(m5)</td>\n",
       "      <td>f</td>\n",
       "      <td>21</td>\n",
       "      <td>29</td>\n",
       "      <td>p</td>\n",
       "      <td>compact</td>\n",
       "      <td>25.0</td>\n",
       "    </tr>\n",
       "    <tr>\n",
       "      <th>3</th>\n",
       "      <td>audi</td>\n",
       "      <td>a4</td>\n",
       "      <td>2.0</td>\n",
       "      <td>2008</td>\n",
       "      <td>4</td>\n",
       "      <td>manual(m6)</td>\n",
       "      <td>f</td>\n",
       "      <td>20</td>\n",
       "      <td>31</td>\n",
       "      <td>p</td>\n",
       "      <td>compact</td>\n",
       "      <td>25.5</td>\n",
       "    </tr>\n",
       "    <tr>\n",
       "      <th>4</th>\n",
       "      <td>audi</td>\n",
       "      <td>a4</td>\n",
       "      <td>2.0</td>\n",
       "      <td>2008</td>\n",
       "      <td>4</td>\n",
       "      <td>auto(av)</td>\n",
       "      <td>f</td>\n",
       "      <td>21</td>\n",
       "      <td>30</td>\n",
       "      <td>p</td>\n",
       "      <td>compact</td>\n",
       "      <td>25.5</td>\n",
       "    </tr>\n",
       "    <tr>\n",
       "      <th>5</th>\n",
       "      <td>audi</td>\n",
       "      <td>a4</td>\n",
       "      <td>2.8</td>\n",
       "      <td>1999</td>\n",
       "      <td>6</td>\n",
       "      <td>auto(l5)</td>\n",
       "      <td>f</td>\n",
       "      <td>16</td>\n",
       "      <td>26</td>\n",
       "      <td>p</td>\n",
       "      <td>compact</td>\n",
       "      <td>21.0</td>\n",
       "    </tr>\n",
       "    <tr>\n",
       "      <th>...</th>\n",
       "      <td>...</td>\n",
       "      <td>...</td>\n",
       "      <td>...</td>\n",
       "      <td>...</td>\n",
       "      <td>...</td>\n",
       "      <td>...</td>\n",
       "      <td>...</td>\n",
       "      <td>...</td>\n",
       "      <td>...</td>\n",
       "      <td>...</td>\n",
       "      <td>...</td>\n",
       "      <td>...</td>\n",
       "    </tr>\n",
       "    <tr>\n",
       "      <th>230</th>\n",
       "      <td>volkswagen</td>\n",
       "      <td>passat</td>\n",
       "      <td>2.0</td>\n",
       "      <td>2008</td>\n",
       "      <td>4</td>\n",
       "      <td>auto(s6)</td>\n",
       "      <td>f</td>\n",
       "      <td>19</td>\n",
       "      <td>28</td>\n",
       "      <td>p</td>\n",
       "      <td>midsize</td>\n",
       "      <td>23.5</td>\n",
       "    </tr>\n",
       "    <tr>\n",
       "      <th>231</th>\n",
       "      <td>volkswagen</td>\n",
       "      <td>passat</td>\n",
       "      <td>2.0</td>\n",
       "      <td>2008</td>\n",
       "      <td>4</td>\n",
       "      <td>manual(m6)</td>\n",
       "      <td>f</td>\n",
       "      <td>21</td>\n",
       "      <td>29</td>\n",
       "      <td>p</td>\n",
       "      <td>midsize</td>\n",
       "      <td>25.0</td>\n",
       "    </tr>\n",
       "    <tr>\n",
       "      <th>232</th>\n",
       "      <td>volkswagen</td>\n",
       "      <td>passat</td>\n",
       "      <td>2.8</td>\n",
       "      <td>1999</td>\n",
       "      <td>6</td>\n",
       "      <td>auto(l5)</td>\n",
       "      <td>f</td>\n",
       "      <td>16</td>\n",
       "      <td>26</td>\n",
       "      <td>p</td>\n",
       "      <td>midsize</td>\n",
       "      <td>21.0</td>\n",
       "    </tr>\n",
       "    <tr>\n",
       "      <th>233</th>\n",
       "      <td>volkswagen</td>\n",
       "      <td>passat</td>\n",
       "      <td>2.8</td>\n",
       "      <td>1999</td>\n",
       "      <td>6</td>\n",
       "      <td>manual(m5)</td>\n",
       "      <td>f</td>\n",
       "      <td>18</td>\n",
       "      <td>26</td>\n",
       "      <td>p</td>\n",
       "      <td>midsize</td>\n",
       "      <td>22.0</td>\n",
       "    </tr>\n",
       "    <tr>\n",
       "      <th>234</th>\n",
       "      <td>volkswagen</td>\n",
       "      <td>passat</td>\n",
       "      <td>3.6</td>\n",
       "      <td>2008</td>\n",
       "      <td>6</td>\n",
       "      <td>auto(s6)</td>\n",
       "      <td>f</td>\n",
       "      <td>17</td>\n",
       "      <td>26</td>\n",
       "      <td>p</td>\n",
       "      <td>midsize</td>\n",
       "      <td>21.5</td>\n",
       "    </tr>\n",
       "  </tbody>\n",
       "</table>\n",
       "<p>234 rows × 12 columns</p>\n",
       "</div>"
      ],
      "text/plain": [
       "    manufacturer   model  displ  year  cyl       trans drv  cty  hwy fl  \\\n",
       "1           audi      a4    1.8  1999    4    auto(l5)   f   18   29  p   \n",
       "2           audi      a4    1.8  1999    4  manual(m5)   f   21   29  p   \n",
       "3           audi      a4    2.0  2008    4  manual(m6)   f   20   31  p   \n",
       "4           audi      a4    2.0  2008    4    auto(av)   f   21   30  p   \n",
       "5           audi      a4    2.8  1999    6    auto(l5)   f   16   26  p   \n",
       "..           ...     ...    ...   ...  ...         ...  ..  ...  ... ..   \n",
       "230   volkswagen  passat    2.0  2008    4    auto(s6)   f   19   28  p   \n",
       "231   volkswagen  passat    2.0  2008    4  manual(m6)   f   21   29  p   \n",
       "232   volkswagen  passat    2.8  1999    6    auto(l5)   f   16   26  p   \n",
       "233   volkswagen  passat    2.8  1999    6  manual(m5)   f   18   26  p   \n",
       "234   volkswagen  passat    3.6  2008    6    auto(s6)   f   17   26  p   \n",
       "\n",
       "       class   eco  \n",
       "1    compact  23.5  \n",
       "2    compact  25.0  \n",
       "3    compact  25.5  \n",
       "4    compact  25.5  \n",
       "5    compact  21.0  \n",
       "..       ...   ...  \n",
       "230  midsize  23.5  \n",
       "231  midsize  25.0  \n",
       "232  midsize  21.0  \n",
       "233  midsize  22.0  \n",
       "234  midsize  21.5  \n",
       "\n",
       "[234 rows x 12 columns]"
      ]
     },
     "execution_count": 11,
     "metadata": {},
     "output_type": "execute_result"
    }
   ],
   "source": [
    "# Load the mpg dataset and use it to answer the following questions:\n",
    "mpg = pd.DataFrame(data('mpg'))\n",
    "mpg['eco'] = (mpg.cty + mpg.hwy)/2\n",
    "twen = mpg[mpg.year == 2008].eco\n",
    "nineteen = mpg[mpg.year == 1999].eco\n",
    "c = 0.05\n",
    "mpg"
   ]
  },
  {
   "cell_type": "code",
   "execution_count": 12,
   "id": "6f1ca471",
   "metadata": {},
   "outputs": [
    {
     "data": {
      "text/plain": [
       "<AxesSubplot:>"
      ]
     },
     "execution_count": 12,
     "metadata": {},
     "output_type": "execute_result"
    },
    {
     "data": {
      "image/png": "[encoded data removed]",
      "text/plain": [
       "<Figure size 432x288 with 2 Axes>"
      ]
     },
     "metadata": {
      "needs_background": "light"
     },
     "output_type": "display_data"
    }
   ],
   "source": [
    "# Is there a difference in fuel-efficiency in cars from 2008 vs 1999?\n",
    "plt.subplot(212)\n",
    "nineteen.hist()\n",
    "\n",
    "plt.subplot(211)\n",
    "twen.hist()"
   ]
  },
  {
   "cell_type": "code",
   "execution_count": 97,
   "id": "bd1e84ce",
   "metadata": {},
   "outputs": [
    {
     "data": {
      "text/plain": [
       "(20.076923076923077, 20.22222222222222)"
      ]
     },
     "execution_count": 97,
     "metadata": {},
     "output_type": "execute_result"
    }
   ],
   "source": [
    "twen.mean(), nineteen.mean()"
   ]
  },
  {
   "cell_type": "code",
   "execution_count": 113,
   "id": "89ac7adc",
   "metadata": {},
   "outputs": [
    {
     "data": {
      "text/plain": [
       "False"
      ]
     },
     "execution_count": 113,
     "metadata": {},
     "output_type": "execute_result"
    }
   ],
   "source": [
    "a, b = stats.levene(twen, nineteen)\n",
    "b< c"
   ]
  },
  {
   "cell_type": "code",
   "execution_count": 119,
   "id": "0123ef51",
   "metadata": {},
   "outputs": [
    {
     "data": {
      "text/plain": [
       "(True, True)"
      ]
     },
     "execution_count": 119,
     "metadata": {},
     "output_type": "execute_result"
    }
   ],
   "source": [
    "# Are compact cars more fuel-efficient than the average car?\n",
    "compact = mpg[mpg['class'] == 'compact'].eco\n",
    "ave = mpg.eco.mean()\n",
    "t, b = stats.ttest_1samp(compact, μth)\n",
    "b/2 < α, t > 0"
   ]
  },
  {
   "cell_type": "code",
   "execution_count": 109,
   "id": "3f722d79",
   "metadata": {},
   "outputs": [
    {
     "data": {
      "text/plain": [
       "False"
      ]
     },
     "execution_count": 109,
     "metadata": {},
     "output_type": "execute_result"
    }
   ],
   "source": [
    "# Do manual cars get better gas mileage than automatic cars?\n",
    "manual = mpg[mpg['trans'].str.contains('manual')].eco\n",
    "auto = mpg[mpg['trans'].str.contains('auto')].eco\n",
    "a,b=stats.levene(manual,auto)\n",
    "b < α"
   ]
  },
  {
   "cell_type": "code",
   "execution_count": 120,
   "id": "edf72640",
   "metadata": {},
   "outputs": [
    {
     "data": {
      "text/plain": [
       "(True, True)"
      ]
     },
     "execution_count": 120,
     "metadata": {},
     "output_type": "execute_result"
    }
   ],
   "source": [
    "t, b = stats.ttest_ind(manual, auto)\n",
    "b < α, t > 0"
   ]
  },
  {
   "cell_type": "code",
   "execution_count": 117,
   "id": "8bece444",
   "metadata": {
    "scrolled": true
   },
   "outputs": [
    {
     "data": {
      "text/plain": [
       "(0.2478998562861525, 4.094044991483017e-99)"
      ]
     },
     "execution_count": 117,
     "metadata": {},
     "output_type": "execute_result"
    }
   ],
   "source": [
    "# Use the telco_churn data. Does tenure correlate with monthly charges? What happens if you control\n",
    "# for phone and internet service?\n",
    "a=0.05\n",
    "df = pd.read_csv('telco_churn.csv')\n",
    "x = df.tenure\n",
    "y = df.MonthlyCharges\n",
    "r, p = stats.pearsonr(x,y)\n",
    "r,p"
   ]
  },
  {
   "cell_type": "code",
   "execution_count": 118,
   "id": "602eef1e",
   "metadata": {},
   "outputs": [
    {
     "data": {
      "text/plain": [
       "True"
      ]
     },
     "execution_count": 118,
     "metadata": {},
     "output_type": "execute_result"
    }
   ],
   "source": [
    "p < a"
   ]
  },
  {
   "cell_type": "code",
   "execution_count": 119,
   "id": "3856d4d0",
   "metadata": {},
   "outputs": [
    {
     "data": {
      "image/png": "[encoded data removed]",
      "text/plain": [
       "<Figure size 720x432 with 1 Axes>"
      ]
     },
     "metadata": {
      "needs_background": "light"
     },
     "output_type": "display_data"
    }
   ],
   "source": [
    "plt.figure(figsize=(10,6))\n",
    "plt.scatter(x,y)\n",
    "plt.show()"
   ]
  },
  {
   "cell_type": "code",
   "execution_count": 120,
   "id": "06ea46b7",
   "metadata": {},
   "outputs": [
    {
     "data": {
      "text/html": [
       "<div>\n",
       "<style scoped>\n",
       "    .dataframe tbody tr th:only-of-type {\n",
       "        vertical-align: middle;\n",
       "    }\n",
       "\n",
       "    .dataframe tbody tr th {\n",
       "        vertical-align: top;\n",
       "    }\n",
       "\n",
       "    .dataframe thead th {\n",
       "        text-align: right;\n",
       "    }\n",
       "</style>\n",
       "<table border=\"1\" class=\"dataframe\">\n",
       "  <thead>\n",
       "    <tr style=\"text-align: right;\">\n",
       "      <th></th>\n",
       "      <th>customerID</th>\n",
       "      <th>gender</th>\n",
       "      <th>SeniorCitizen</th>\n",
       "      <th>Partner</th>\n",
       "      <th>Dependents</th>\n",
       "      <th>tenure</th>\n",
       "      <th>PhoneService</th>\n",
       "      <th>MultipleLines</th>\n",
       "      <th>InternetService</th>\n",
       "      <th>OnlineSecurity</th>\n",
       "      <th>...</th>\n",
       "      <th>DeviceProtection</th>\n",
       "      <th>TechSupport</th>\n",
       "      <th>StreamingTV</th>\n",
       "      <th>StreamingMovies</th>\n",
       "      <th>Contract</th>\n",
       "      <th>PaperlessBilling</th>\n",
       "      <th>PaymentMethod</th>\n",
       "      <th>MonthlyCharges</th>\n",
       "      <th>TotalCharges</th>\n",
       "      <th>Churn</th>\n",
       "    </tr>\n",
       "  </thead>\n",
       "  <tbody>\n",
       "    <tr>\n",
       "      <th>0</th>\n",
       "      <td>7590-VHVEG</td>\n",
       "      <td>Female</td>\n",
       "      <td>0</td>\n",
       "      <td>Yes</td>\n",
       "      <td>No</td>\n",
       "      <td>1</td>\n",
       "      <td>No</td>\n",
       "      <td>No phone service</td>\n",
       "      <td>DSL</td>\n",
       "      <td>No</td>\n",
       "      <td>...</td>\n",
       "      <td>No</td>\n",
       "      <td>No</td>\n",
       "      <td>No</td>\n",
       "      <td>No</td>\n",
       "      <td>Month-to-month</td>\n",
       "      <td>Yes</td>\n",
       "      <td>Electronic check</td>\n",
       "      <td>29.85</td>\n",
       "      <td>29.85</td>\n",
       "      <td>No</td>\n",
       "    </tr>\n",
       "    <tr>\n",
       "      <th>1</th>\n",
       "      <td>5575-GNVDE</td>\n",
       "      <td>Male</td>\n",
       "      <td>0</td>\n",
       "      <td>No</td>\n",
       "      <td>No</td>\n",
       "      <td>34</td>\n",
       "      <td>Yes</td>\n",
       "      <td>No</td>\n",
       "      <td>DSL</td>\n",
       "      <td>Yes</td>\n",
       "      <td>...</td>\n",
       "      <td>Yes</td>\n",
       "      <td>No</td>\n",
       "      <td>No</td>\n",
       "      <td>No</td>\n",
       "      <td>One year</td>\n",
       "      <td>No</td>\n",
       "      <td>Mailed check</td>\n",
       "      <td>56.95</td>\n",
       "      <td>1889.5</td>\n",
       "      <td>No</td>\n",
       "    </tr>\n",
       "    <tr>\n",
       "      <th>2</th>\n",
       "      <td>3668-QPYBK</td>\n",
       "      <td>Male</td>\n",
       "      <td>0</td>\n",
       "      <td>No</td>\n",
       "      <td>No</td>\n",
       "      <td>2</td>\n",
       "      <td>Yes</td>\n",
       "      <td>No</td>\n",
       "      <td>DSL</td>\n",
       "      <td>Yes</td>\n",
       "      <td>...</td>\n",
       "      <td>No</td>\n",
       "      <td>No</td>\n",
       "      <td>No</td>\n",
       "      <td>No</td>\n",
       "      <td>Month-to-month</td>\n",
       "      <td>Yes</td>\n",
       "      <td>Mailed check</td>\n",
       "      <td>53.85</td>\n",
       "      <td>108.15</td>\n",
       "      <td>Yes</td>\n",
       "    </tr>\n",
       "    <tr>\n",
       "      <th>3</th>\n",
       "      <td>7795-CFOCW</td>\n",
       "      <td>Male</td>\n",
       "      <td>0</td>\n",
       "      <td>No</td>\n",
       "      <td>No</td>\n",
       "      <td>45</td>\n",
       "      <td>No</td>\n",
       "      <td>No phone service</td>\n",
       "      <td>DSL</td>\n",
       "      <td>Yes</td>\n",
       "      <td>...</td>\n",
       "      <td>Yes</td>\n",
       "      <td>Yes</td>\n",
       "      <td>No</td>\n",
       "      <td>No</td>\n",
       "      <td>One year</td>\n",
       "      <td>No</td>\n",
       "      <td>Bank transfer (automatic)</td>\n",
       "      <td>42.30</td>\n",
       "      <td>1840.75</td>\n",
       "      <td>No</td>\n",
       "    </tr>\n",
       "    <tr>\n",
       "      <th>4</th>\n",
       "      <td>9237-HQITU</td>\n",
       "      <td>Female</td>\n",
       "      <td>0</td>\n",
       "      <td>No</td>\n",
       "      <td>No</td>\n",
       "      <td>2</td>\n",
       "      <td>Yes</td>\n",
       "      <td>No</td>\n",
       "      <td>Fiber optic</td>\n",
       "      <td>No</td>\n",
       "      <td>...</td>\n",
       "      <td>No</td>\n",
       "      <td>No</td>\n",
       "      <td>No</td>\n",
       "      <td>No</td>\n",
       "      <td>Month-to-month</td>\n",
       "      <td>Yes</td>\n",
       "      <td>Electronic check</td>\n",
       "      <td>70.70</td>\n",
       "      <td>151.65</td>\n",
       "      <td>Yes</td>\n",
       "    </tr>\n",
       "    <tr>\n",
       "      <th>...</th>\n",
       "      <td>...</td>\n",
       "      <td>...</td>\n",
       "      <td>...</td>\n",
       "      <td>...</td>\n",
       "      <td>...</td>\n",
       "      <td>...</td>\n",
       "      <td>...</td>\n",
       "      <td>...</td>\n",
       "      <td>...</td>\n",
       "      <td>...</td>\n",
       "      <td>...</td>\n",
       "      <td>...</td>\n",
       "      <td>...</td>\n",
       "      <td>...</td>\n",
       "      <td>...</td>\n",
       "      <td>...</td>\n",
       "      <td>...</td>\n",
       "      <td>...</td>\n",
       "      <td>...</td>\n",
       "      <td>...</td>\n",
       "      <td>...</td>\n",
       "    </tr>\n",
       "    <tr>\n",
       "      <th>7038</th>\n",
       "      <td>6840-RESVB</td>\n",
       "      <td>Male</td>\n",
       "      <td>0</td>\n",
       "      <td>Yes</td>\n",
       "      <td>Yes</td>\n",
       "      <td>24</td>\n",
       "      <td>Yes</td>\n",
       "      <td>Yes</td>\n",
       "      <td>DSL</td>\n",
       "      <td>Yes</td>\n",
       "      <td>...</td>\n",
       "      <td>Yes</td>\n",
       "      <td>Yes</td>\n",
       "      <td>Yes</td>\n",
       "      <td>Yes</td>\n",
       "      <td>One year</td>\n",
       "      <td>Yes</td>\n",
       "      <td>Mailed check</td>\n",
       "      <td>84.80</td>\n",
       "      <td>1990.5</td>\n",
       "      <td>No</td>\n",
       "    </tr>\n",
       "    <tr>\n",
       "      <th>7039</th>\n",
       "      <td>2234-XADUH</td>\n",
       "      <td>Female</td>\n",
       "      <td>0</td>\n",
       "      <td>Yes</td>\n",
       "      <td>Yes</td>\n",
       "      <td>72</td>\n",
       "      <td>Yes</td>\n",
       "      <td>Yes</td>\n",
       "      <td>Fiber optic</td>\n",
       "      <td>No</td>\n",
       "      <td>...</td>\n",
       "      <td>Yes</td>\n",
       "      <td>No</td>\n",
       "      <td>Yes</td>\n",
       "      <td>Yes</td>\n",
       "      <td>One year</td>\n",
       "      <td>Yes</td>\n",
       "      <td>Credit card (automatic)</td>\n",
       "      <td>103.20</td>\n",
       "      <td>7362.9</td>\n",
       "      <td>No</td>\n",
       "    </tr>\n",
       "    <tr>\n",
       "      <th>7040</th>\n",
       "      <td>4801-JZAZL</td>\n",
       "      <td>Female</td>\n",
       "      <td>0</td>\n",
       "      <td>Yes</td>\n",
       "      <td>Yes</td>\n",
       "      <td>11</td>\n",
       "      <td>No</td>\n",
       "      <td>No phone service</td>\n",
       "      <td>DSL</td>\n",
       "      <td>Yes</td>\n",
       "      <td>...</td>\n",
       "      <td>No</td>\n",
       "      <td>No</td>\n",
       "      <td>No</td>\n",
       "      <td>No</td>\n",
       "      <td>Month-to-month</td>\n",
       "      <td>Yes</td>\n",
       "      <td>Electronic check</td>\n",
       "      <td>29.60</td>\n",
       "      <td>346.45</td>\n",
       "      <td>No</td>\n",
       "    </tr>\n",
       "    <tr>\n",
       "      <th>7041</th>\n",
       "      <td>8361-LTMKD</td>\n",
       "      <td>Male</td>\n",
       "      <td>1</td>\n",
       "      <td>Yes</td>\n",
       "      <td>No</td>\n",
       "      <td>4</td>\n",
       "      <td>Yes</td>\n",
       "      <td>Yes</td>\n",
       "      <td>Fiber optic</td>\n",
       "      <td>No</td>\n",
       "      <td>...</td>\n",
       "      <td>No</td>\n",
       "      <td>No</td>\n",
       "      <td>No</td>\n",
       "      <td>No</td>\n",
       "      <td>Month-to-month</td>\n",
       "      <td>Yes</td>\n",
       "      <td>Mailed check</td>\n",
       "      <td>74.40</td>\n",
       "      <td>306.6</td>\n",
       "      <td>Yes</td>\n",
       "    </tr>\n",
       "    <tr>\n",
       "      <th>7042</th>\n",
       "      <td>3186-AJIEK</td>\n",
       "      <td>Male</td>\n",
       "      <td>0</td>\n",
       "      <td>No</td>\n",
       "      <td>No</td>\n",
       "      <td>66</td>\n",
       "      <td>Yes</td>\n",
       "      <td>No</td>\n",
       "      <td>Fiber optic</td>\n",
       "      <td>Yes</td>\n",
       "      <td>...</td>\n",
       "      <td>Yes</td>\n",
       "      <td>Yes</td>\n",
       "      <td>Yes</td>\n",
       "      <td>Yes</td>\n",
       "      <td>Two year</td>\n",
       "      <td>Yes</td>\n",
       "      <td>Bank transfer (automatic)</td>\n",
       "      <td>105.65</td>\n",
       "      <td>6844.5</td>\n",
       "      <td>No</td>\n",
       "    </tr>\n",
       "  </tbody>\n",
       "</table>\n",
       "<p>7043 rows × 21 columns</p>\n",
       "</div>"
      ],
      "text/plain": [
       "      customerID  gender  SeniorCitizen Partner Dependents  tenure  \\\n",
       "0     7590-VHVEG  Female              0     Yes         No       1   \n",
       "1     5575-GNVDE    Male              0      No         No      34   \n",
       "2     3668-QPYBK    Male              0      No         No       2   \n",
       "3     7795-CFOCW    Male              0      No         No      45   \n",
       "4     9237-HQITU  Female              0      No         No       2   \n",
       "...          ...     ...            ...     ...        ...     ...   \n",
       "7038  6840-RESVB    Male              0     Yes        Yes      24   \n",
       "7039  2234-XADUH  Female              0     Yes        Yes      72   \n",
       "7040  4801-JZAZL  Female              0     Yes        Yes      11   \n",
       "7041  8361-LTMKD    Male              1     Yes         No       4   \n",
       "7042  3186-AJIEK    Male              0      No         No      66   \n",
       "\n",
       "     PhoneService     MultipleLines InternetService OnlineSecurity  ...  \\\n",
       "0              No  No phone service             DSL             No  ...   \n",
       "1             Yes                No             DSL            Yes  ...   \n",
       "2             Yes                No             DSL            Yes  ...   \n",
       "3              No  No phone service             DSL            Yes  ...   \n",
       "4             Yes                No     Fiber optic             No  ...   \n",
       "...           ...               ...             ...            ...  ...   \n",
       "7038          Yes               Yes             DSL            Yes  ...   \n",
       "7039          Yes               Yes     Fiber optic             No  ...   \n",
       "7040           No  No phone service             DSL            Yes  ...   \n",
       "7041          Yes               Yes     Fiber optic             No  ...   \n",
       "7042          Yes                No     Fiber optic            Yes  ...   \n",
       "\n",
       "     DeviceProtection TechSupport StreamingTV StreamingMovies        Contract  \\\n",
       "0                  No          No          No              No  Month-to-month   \n",
       "1                 Yes          No          No              No        One year   \n",
       "2                  No          No          No              No  Month-to-month   \n",
       "3                 Yes         Yes          No              No        One year   \n",
       "4                  No          No          No              No  Month-to-month   \n",
       "...               ...         ...         ...             ...             ...   \n",
       "7038              Yes         Yes         Yes             Yes        One year   \n",
       "7039              Yes          No         Yes             Yes        One year   \n",
       "7040               No          No          No              No  Month-to-month   \n",
       "7041               No          No          No              No  Month-to-month   \n",
       "7042              Yes         Yes         Yes             Yes        Two year   \n",
       "\n",
       "     PaperlessBilling              PaymentMethod MonthlyCharges  TotalCharges  \\\n",
       "0                 Yes           Electronic check          29.85         29.85   \n",
       "1                  No               Mailed check          56.95        1889.5   \n",
       "2                 Yes               Mailed check          53.85        108.15   \n",
       "3                  No  Bank transfer (automatic)          42.30       1840.75   \n",
       "4                 Yes           Electronic check          70.70        151.65   \n",
       "...               ...                        ...            ...           ...   \n",
       "7038              Yes               Mailed check          84.80        1990.5   \n",
       "7039              Yes    Credit card (automatic)         103.20        7362.9   \n",
       "7040              Yes           Electronic check          29.60        346.45   \n",
       "7041              Yes               Mailed check          74.40         306.6   \n",
       "7042              Yes  Bank transfer (automatic)         105.65        6844.5   \n",
       "\n",
       "     Churn  \n",
       "0       No  \n",
       "1       No  \n",
       "2      Yes  \n",
       "3       No  \n",
       "4      Yes  \n",
       "...    ...  \n",
       "7038    No  \n",
       "7039    No  \n",
       "7040    No  \n",
       "7041   Yes  \n",
       "7042    No  \n",
       "\n",
       "[7043 rows x 21 columns]"
      ]
     },
     "execution_count": 120,
     "metadata": {},
     "output_type": "execute_result"
    }
   ],
   "source": [
    "df"
   ]
  },
  {
   "cell_type": "code",
   "execution_count": null,
   "id": "ec4372a7",
   "metadata": {},
   "outputs": [],
   "source": []
  },
  {
   "cell_type": "code",
   "execution_count": 122,
   "id": "6993f7c5",
   "metadata": {},
   "outputs": [
    {
     "data": {
      "image/png": "[encoded data removed]",
      "text/plain": [
       "<Figure size 432x288 with 1 Axes>"
      ]
     },
     "metadata": {
      "needs_background": "light"
     },
     "output_type": "display_data"
    }
   ],
   "source": [
    "#Total charges?\n",
    "df.TotalCharges = df.TotalCharges.str.replace(' ','0').astype(float)\n",
    "x = df.tenure\n",
    "y = df.TotalCharges\n",
    "plt.scatter(x,y)\n",
    "r, p = stats.pearsonr(x,y)\n",
    "r,p\n",
    "plt.show()"
   ]
  },
  {
   "cell_type": "code",
   "execution_count": 124,
   "id": "b79c0da8",
   "metadata": {},
   "outputs": [],
   "source": [
    "phone = df[df.PhoneService == 'Yes']\n",
    "no_phone = df[df.PhoneService == 'No']"
   ]
  },
  {
   "cell_type": "code",
   "execution_count": 126,
   "id": "3fd734f1",
   "metadata": {},
   "outputs": [
    {
     "data": {
      "text/plain": [
       "(0.8301076972900469, 0.0)"
      ]
     },
     "execution_count": 126,
     "metadata": {},
     "output_type": "execute_result"
    }
   ],
   "source": [
    "r, p = stats.pearsonr(phone.tenure, phone.TotalCharges)\n",
    "r, p"
   ]
  },
  {
   "cell_type": "code",
   "execution_count": 127,
   "id": "7d32d2b0",
   "metadata": {},
   "outputs": [
    {
     "data": {
      "text/plain": [
       "True"
      ]
     },
     "execution_count": 127,
     "metadata": {},
     "output_type": "execute_result"
    }
   ],
   "source": [
    "p < α"
   ]
  },
  {
   "cell_type": "code",
   "execution_count": 130,
   "id": "41cdb7cd",
   "metadata": {},
   "outputs": [
    {
     "name": "stdout",
     "output_type": "stream",
     "text": [
      "True\n"
     ]
    },
    {
     "data": {
      "text/plain": [
       "(0.9535697728407472, 0.0)"
      ]
     },
     "execution_count": 130,
     "metadata": {},
     "output_type": "execute_result"
    }
   ],
   "source": [
    "print(p < α)\n",
    "r, p = stats.pearsonr(no_phone.tenure, no_phone.TotalCharges)\n",
    "r, p"
   ]
  },
  {
   "cell_type": "code",
   "execution_count": 132,
   "id": "167797e0",
   "metadata": {},
   "outputs": [
    {
     "data": {
      "image/png": "[encoded data removed]",
      "text/plain": [
       "<Figure size 808x360 with 2 Axes>"
      ]
     },
     "metadata": {
      "needs_background": "light"
     },
     "output_type": "display_data"
    }
   ],
   "source": [
    "sns.relplot(data=df, x='tenure', y='TotalCharges', hue='InternetService', col='PhoneService')\n",
    "plt.show()"
   ]
  },
  {
   "cell_type": "code",
   "execution_count": 136,
   "id": "de1437d7",
   "metadata": {},
   "outputs": [
    {
     "data": {
      "text/plain": [
       "Fiber optic    3096\n",
       "DSL            2421\n",
       "No             1526\n",
       "Name: InternetService, dtype: int64"
      ]
     },
     "execution_count": 136,
     "metadata": {},
     "output_type": "execute_result"
    }
   ],
   "source": [
    "df.InternetService.value_counts()"
   ]
  },
  {
   "cell_type": "code",
   "execution_count": 137,
   "id": "a5a9772f",
   "metadata": {},
   "outputs": [],
   "source": [
    "internet = df[df.InternetService != 'No']\n",
    "no_internet = df[df.InternetService == 'No']"
   ]
  },
  {
   "cell_type": "code",
   "execution_count": 141,
   "id": "971aa7ae",
   "metadata": {},
   "outputs": [
    {
     "name": "stdout",
     "output_type": "stream",
     "text": [
      "True\n"
     ]
    },
    {
     "data": {
      "text/plain": [
       "(0.9320165580130628, 0.0)"
      ]
     },
     "execution_count": 141,
     "metadata": {},
     "output_type": "execute_result"
    }
   ],
   "source": [
    "print(p < α)\n",
    "r,p = stats.pearsonr(internet.tenure, internet.TotalCharges)\n",
    "r,p"
   ]
  },
  {
   "cell_type": "code",
   "execution_count": null,
   "id": "fdea422a",
   "metadata": {},
   "outputs": [],
   "source": []
  },
  {
   "cell_type": "code",
   "execution_count": null,
   "id": "ea5397e2",
   "metadata": {},
   "outputs": [],
   "source": []
  },
  {
   "cell_type": "code",
   "execution_count": 50,
   "id": "9ab8bb5b",
   "metadata": {},
   "outputs": [],
   "source": [
    "def get_db_url(db, env_file=os.path.exists('env.py')):\n",
    "    if env_file:\n",
    "        user, password, host = (env.user, env.password, env.host)\n",
    "        return f'mysql+pymysql://{user}:{password}@{host}/{db}'\n",
    "    else:\n",
    "        return False"
   ]
  },
  {
   "cell_type": "code",
   "execution_count": 17,
   "id": "c38d1ac6",
   "metadata": {},
   "outputs": [],
   "source": [
    "# Use the employees database.\n",
    "def get_db_url(db, env_file=os.path.exists('env.py')):\n",
    "    if env_file:\n",
    "        user, password, host = (env.user, env.password, env.host)\n",
    "        return f'mysql+pymysql://{user}:{password}@{host}/{db}'\n",
    "    else:\n",
    "        return False\n",
    "\n",
    "query = '''\n",
    "        SELECT * FROM \n",
    "        dept_emp\n",
    "        JOIN salaries USING (emp_no);\n",
    "'''\n",
    "sals = pd.read_csv('work.csv')\n",
    "sals = sals.rename(columns={'from_date': 'emp_from_date', 'to_date': 'emp_to_date', 'from_date.1': 'sal_from_date', 'to_date.1': 'sal_to_date'})"
   ]
  },
  {
   "cell_type": "code",
   "execution_count": 18,
   "id": "341cbe28",
   "metadata": {},
   "outputs": [
    {
     "data": {
      "text/html": [
       "<div>\n",
       "<style scoped>\n",
       "    .dataframe tbody tr th:only-of-type {\n",
       "        vertical-align: middle;\n",
       "    }\n",
       "\n",
       "    .dataframe tbody tr th {\n",
       "        vertical-align: top;\n",
       "    }\n",
       "\n",
       "    .dataframe thead th {\n",
       "        text-align: right;\n",
       "    }\n",
       "</style>\n",
       "<table border=\"1\" class=\"dataframe\">\n",
       "  <thead>\n",
       "    <tr style=\"text-align: right;\">\n",
       "      <th></th>\n",
       "      <th>dept_no</th>\n",
       "      <th>dept_name</th>\n",
       "      <th>emp_no</th>\n",
       "      <th>dept_no.1</th>\n",
       "      <th>emp_from_date</th>\n",
       "      <th>emp_to_date</th>\n",
       "      <th>emp_no.1</th>\n",
       "      <th>birth_date</th>\n",
       "      <th>first_name</th>\n",
       "      <th>last_name</th>\n",
       "      <th>gender</th>\n",
       "      <th>hire_date</th>\n",
       "      <th>emp_no.2</th>\n",
       "      <th>salary</th>\n",
       "      <th>sal_from_date</th>\n",
       "      <th>sal_to_date</th>\n",
       "    </tr>\n",
       "  </thead>\n",
       "  <tbody>\n",
       "    <tr>\n",
       "      <th>0</th>\n",
       "      <td>d001</td>\n",
       "      <td>Marketing</td>\n",
       "      <td>110039</td>\n",
       "      <td>d001</td>\n",
       "      <td>1991-10-01</td>\n",
       "      <td>9999-01-01</td>\n",
       "      <td>110039</td>\n",
       "      <td>1963-06-21</td>\n",
       "      <td>Vishwani</td>\n",
       "      <td>Minakawa</td>\n",
       "      <td>M</td>\n",
       "      <td>1986-04-12</td>\n",
       "      <td>110039</td>\n",
       "      <td>106491</td>\n",
       "      <td>2002-04-08</td>\n",
       "      <td>9999-01-01</td>\n",
       "    </tr>\n",
       "    <tr>\n",
       "      <th>1</th>\n",
       "      <td>d002</td>\n",
       "      <td>Finance</td>\n",
       "      <td>110114</td>\n",
       "      <td>d002</td>\n",
       "      <td>1989-12-17</td>\n",
       "      <td>9999-01-01</td>\n",
       "      <td>110114</td>\n",
       "      <td>1957-03-28</td>\n",
       "      <td>Isamu</td>\n",
       "      <td>Legleitner</td>\n",
       "      <td>F</td>\n",
       "      <td>1985-01-14</td>\n",
       "      <td>110114</td>\n",
       "      <td>83457</td>\n",
       "      <td>2002-01-10</td>\n",
       "      <td>9999-01-01</td>\n",
       "    </tr>\n",
       "    <tr>\n",
       "      <th>2</th>\n",
       "      <td>d003</td>\n",
       "      <td>Human Resources</td>\n",
       "      <td>110228</td>\n",
       "      <td>d003</td>\n",
       "      <td>1992-03-21</td>\n",
       "      <td>9999-01-01</td>\n",
       "      <td>110228</td>\n",
       "      <td>1958-12-02</td>\n",
       "      <td>Karsten</td>\n",
       "      <td>Sigstam</td>\n",
       "      <td>F</td>\n",
       "      <td>1985-08-04</td>\n",
       "      <td>110228</td>\n",
       "      <td>65400</td>\n",
       "      <td>2002-07-31</td>\n",
       "      <td>9999-01-01</td>\n",
       "    </tr>\n",
       "    <tr>\n",
       "      <th>3</th>\n",
       "      <td>d004</td>\n",
       "      <td>Production</td>\n",
       "      <td>110420</td>\n",
       "      <td>d004</td>\n",
       "      <td>1996-08-30</td>\n",
       "      <td>9999-01-01</td>\n",
       "      <td>110420</td>\n",
       "      <td>1963-07-27</td>\n",
       "      <td>Oscar</td>\n",
       "      <td>Ghazalie</td>\n",
       "      <td>M</td>\n",
       "      <td>1992-02-05</td>\n",
       "      <td>110420</td>\n",
       "      <td>56654</td>\n",
       "      <td>2002-02-02</td>\n",
       "      <td>9999-01-01</td>\n",
       "    </tr>\n",
       "    <tr>\n",
       "      <th>4</th>\n",
       "      <td>d005</td>\n",
       "      <td>Development</td>\n",
       "      <td>110567</td>\n",
       "      <td>d005</td>\n",
       "      <td>1992-04-25</td>\n",
       "      <td>9999-01-01</td>\n",
       "      <td>110567</td>\n",
       "      <td>1964-04-25</td>\n",
       "      <td>Leon</td>\n",
       "      <td>DasSarma</td>\n",
       "      <td>F</td>\n",
       "      <td>1986-10-21</td>\n",
       "      <td>110567</td>\n",
       "      <td>74510</td>\n",
       "      <td>2001-10-17</td>\n",
       "      <td>9999-01-01</td>\n",
       "    </tr>\n",
       "  </tbody>\n",
       "</table>\n",
       "</div>"
      ],
      "text/plain": [
       "  dept_no        dept_name  emp_no dept_no.1 emp_from_date emp_to_date  \\\n",
       "0    d001        Marketing  110039      d001    1991-10-01  9999-01-01   \n",
       "1    d002          Finance  110114      d002    1989-12-17  9999-01-01   \n",
       "2    d003  Human Resources  110228      d003    1992-03-21  9999-01-01   \n",
       "3    d004       Production  110420      d004    1996-08-30  9999-01-01   \n",
       "4    d005      Development  110567      d005    1992-04-25  9999-01-01   \n",
       "\n",
       "   emp_no.1  birth_date first_name   last_name gender   hire_date  emp_no.2  \\\n",
       "0    110039  1963-06-21   Vishwani    Minakawa      M  1986-04-12    110039   \n",
       "1    110114  1957-03-28      Isamu  Legleitner      F  1985-01-14    110114   \n",
       "2    110228  1958-12-02    Karsten     Sigstam      F  1985-08-04    110228   \n",
       "3    110420  1963-07-27      Oscar    Ghazalie      M  1992-02-05    110420   \n",
       "4    110567  1964-04-25       Leon    DasSarma      F  1986-10-21    110567   \n",
       "\n",
       "   salary sal_from_date sal_to_date  \n",
       "0  106491    2002-04-08  9999-01-01  \n",
       "1   83457    2002-01-10  9999-01-01  \n",
       "2   65400    2002-07-31  9999-01-01  \n",
       "3   56654    2002-02-02  9999-01-01  \n",
       "4   74510    2001-10-17  9999-01-01  "
      ]
     },
     "execution_count": 18,
     "metadata": {},
     "output_type": "execute_result"
    }
   ],
   "source": [
    "sals.head()"
   ]
  },
  {
   "cell_type": "code",
   "execution_count": 35,
   "id": "a64933b7",
   "metadata": {},
   "outputs": [
    {
     "data": {
      "text/plain": [
       "(-0.719714333145218, 0.028805130712219917)"
      ]
     },
     "execution_count": 35,
     "metadata": {},
     "output_type": "execute_result"
    }
   ],
   "source": [
    "# Is there a relationship between how long an employee has been with the company and their salary?\n",
    "query = 'SELECT * FROM salaries LIMIT 100;'\n",
    "sals = pd.read_csv('work.csv')\n",
    "sals['hire_date'] = sals.from_date.str.slice(0,4).astype('int')\n",
    "sals.head()\n",
    "x = sals.hire_date\n",
    "y = sals.salary\n",
    "r,p = stats.pearsonr(x,y)\n",
    "r,p"
   ]
  },
  {
   "cell_type": "code",
   "execution_count": 36,
   "id": "2801b5f1",
   "metadata": {},
   "outputs": [
    {
     "data": {
      "text/plain": [
       "True"
      ]
     },
     "execution_count": 36,
     "metadata": {},
     "output_type": "execute_result"
    }
   ],
   "source": [
    "p < α"
   ]
  },
  {
   "cell_type": "code",
   "execution_count": 40,
   "id": "d2db4d37",
   "metadata": {},
   "outputs": [
    {
     "data": {
      "image/png": "[encoded data removed]",
      "text/plain": [
       "<Figure size 432x288 with 1 Axes>"
      ]
     },
     "metadata": {
      "needs_background": "light"
     },
     "output_type": "display_data"
    }
   ],
   "source": [
    "plt.scatter(x,y)\n",
    "plt.show()"
   ]
  },
  {
   "cell_type": "code",
   "execution_count": 154,
   "id": "2cad370e",
   "metadata": {},
   "outputs": [],
   "source": [
    "# Is there a relationship between how long an employee has been with the company and the number of titles \n",
    "# they have had?\n"
   ]
  },
  {
   "cell_type": "code",
   "execution_count": 143,
   "id": "dc183362",
   "metadata": {},
   "outputs": [
    {
     "data": {
      "text/html": [
       "<div>\n",
       "<style scoped>\n",
       "    .dataframe tbody tr th:only-of-type {\n",
       "        vertical-align: middle;\n",
       "    }\n",
       "\n",
       "    .dataframe tbody tr th {\n",
       "        vertical-align: top;\n",
       "    }\n",
       "\n",
       "    .dataframe thead th {\n",
       "        text-align: right;\n",
       "    }\n",
       "</style>\n",
       "<table border=\"1\" class=\"dataframe\">\n",
       "  <thead>\n",
       "    <tr style=\"text-align: right;\">\n",
       "      <th></th>\n",
       "      <th>Reaction</th>\n",
       "      <th>Days</th>\n",
       "      <th>Subject</th>\n",
       "    </tr>\n",
       "  </thead>\n",
       "  <tbody>\n",
       "    <tr>\n",
       "      <th>1</th>\n",
       "      <td>249.5600</td>\n",
       "      <td>0</td>\n",
       "      <td>308</td>\n",
       "    </tr>\n",
       "    <tr>\n",
       "      <th>2</th>\n",
       "      <td>258.7047</td>\n",
       "      <td>1</td>\n",
       "      <td>308</td>\n",
       "    </tr>\n",
       "    <tr>\n",
       "      <th>3</th>\n",
       "      <td>250.8006</td>\n",
       "      <td>2</td>\n",
       "      <td>308</td>\n",
       "    </tr>\n",
       "    <tr>\n",
       "      <th>4</th>\n",
       "      <td>321.4398</td>\n",
       "      <td>3</td>\n",
       "      <td>308</td>\n",
       "    </tr>\n",
       "    <tr>\n",
       "      <th>5</th>\n",
       "      <td>356.8519</td>\n",
       "      <td>4</td>\n",
       "      <td>308</td>\n",
       "    </tr>\n",
       "    <tr>\n",
       "      <th>...</th>\n",
       "      <td>...</td>\n",
       "      <td>...</td>\n",
       "      <td>...</td>\n",
       "    </tr>\n",
       "    <tr>\n",
       "      <th>176</th>\n",
       "      <td>329.6076</td>\n",
       "      <td>5</td>\n",
       "      <td>372</td>\n",
       "    </tr>\n",
       "    <tr>\n",
       "      <th>177</th>\n",
       "      <td>334.4818</td>\n",
       "      <td>6</td>\n",
       "      <td>372</td>\n",
       "    </tr>\n",
       "    <tr>\n",
       "      <th>178</th>\n",
       "      <td>343.2199</td>\n",
       "      <td>7</td>\n",
       "      <td>372</td>\n",
       "    </tr>\n",
       "    <tr>\n",
       "      <th>179</th>\n",
       "      <td>369.1417</td>\n",
       "      <td>8</td>\n",
       "      <td>372</td>\n",
       "    </tr>\n",
       "    <tr>\n",
       "      <th>180</th>\n",
       "      <td>364.1236</td>\n",
       "      <td>9</td>\n",
       "      <td>372</td>\n",
       "    </tr>\n",
       "  </tbody>\n",
       "</table>\n",
       "<p>180 rows × 3 columns</p>\n",
       "</div>"
      ],
      "text/plain": [
       "     Reaction  Days  Subject\n",
       "1    249.5600     0      308\n",
       "2    258.7047     1      308\n",
       "3    250.8006     2      308\n",
       "4    321.4398     3      308\n",
       "5    356.8519     4      308\n",
       "..        ...   ...      ...\n",
       "176  329.6076     5      372\n",
       "177  334.4818     6      372\n",
       "178  343.2199     7      372\n",
       "179  369.1417     8      372\n",
       "180  364.1236     9      372\n",
       "\n",
       "[180 rows x 3 columns]"
      ]
     },
     "execution_count": 143,
     "metadata": {},
     "output_type": "execute_result"
    }
   ],
   "source": [
    "# Use the sleepstudy data\n",
    "df=data('sleepstudy')\n",
    "df"
   ]
  },
  {
   "cell_type": "code",
   "execution_count": 145,
   "id": "6ac41282",
   "metadata": {},
   "outputs": [
    {
     "name": "stdout",
     "output_type": "stream",
     "text": [
      "r = 0.5352302262650255\n",
      "p = 9.89409632221439e-15\n",
      "We reject the null hypothesis\n"
     ]
    },
    {
     "data": {
      "image/png": "[encoded data removed]",
      "text/plain": [
       "<Figure size 720x432 with 1 Axes>"
      ]
     },
     "metadata": {
      "needs_background": "light"
     },
     "output_type": "display_data"
    }
   ],
   "source": [
    "# Is there a relationship between days and reaction time?\n",
    "x=df.Reaction\n",
    "y=df.Days\n",
    "r, p = stats.pearsonr(x,y)\n",
    "print('r =', r)\n",
    "print('p =', p)\n",
    "if p < alpha:\n",
    "    print(\"We reject the null hypothesis\")\n",
    "else:\n",
    "    print(\"We fail to reject the null hypothesis\")\n",
    "plt.figure(figsize=(10,6))\n",
    "plt.scatter(x,y)\n",
    "plt.xlabel('reaction')\n",
    "plt.ylabel('days')\n",
    "plt.show()"
   ]
  },
  {
   "cell_type": "code",
   "execution_count": 64,
   "id": "ab1ae18f",
   "metadata": {},
   "outputs": [
    {
     "data": {
      "text/html": [
       "<div>\n",
       "<style scoped>\n",
       "    .dataframe tbody tr th:only-of-type {\n",
       "        vertical-align: middle;\n",
       "    }\n",
       "\n",
       "    .dataframe tbody tr th {\n",
       "        vertical-align: top;\n",
       "    }\n",
       "\n",
       "    .dataframe thead th {\n",
       "        text-align: right;\n",
       "    }\n",
       "</style>\n",
       "<table border=\"1\" class=\"dataframe\">\n",
       "  <thead>\n",
       "    <tr style=\"text-align: right;\">\n",
       "      <th></th>\n",
       "      <th>Codeup Student</th>\n",
       "      <th>Not Codeup Student</th>\n",
       "    </tr>\n",
       "  </thead>\n",
       "  <tbody>\n",
       "    <tr>\n",
       "      <th>Uses a Macbook</th>\n",
       "      <td>49</td>\n",
       "      <td>20</td>\n",
       "    </tr>\n",
       "    <tr>\n",
       "      <th>Does not use a Macbook</th>\n",
       "      <td>1</td>\n",
       "      <td>30</td>\n",
       "    </tr>\n",
       "  </tbody>\n",
       "</table>\n",
       "</div>"
      ],
      "text/plain": [
       "                        Codeup Student  Not Codeup Student\n",
       "Uses a Macbook                      49                  20\n",
       "Does not use a Macbook               1                  30"
      ]
     },
     "execution_count": 64,
     "metadata": {},
     "output_type": "execute_result"
    }
   ],
   "source": [
    "# Use the following contingency table to help answer the question of whether using a macbook and being a \n",
    "# codeup student are independent of each other.\n",
    "# H0=codeup does not effect the used of macbook\n",
    "# H1=codeup doesnt not effect the used of macbook\n",
    "mac = pd.DataFrame([[49, 20], [1, 30]])\n",
    "mac.columns = ['Codeup Student','Not Codeup Student']\n",
    "mac.index = ['Uses a Macbook','Does not use a Macbook']\n",
    "mac"
   ]
  },
  {
   "cell_type": "code",
   "execution_count": 65,
   "id": "3bb4b24b",
   "metadata": {},
   "outputs": [
    {
     "data": {
      "text/plain": [
       "(36.65264142122487,\n",
       " 1.4116760526193828e-09,\n",
       " 1,\n",
       " array([[34.5, 34.5],\n",
       "        [15.5, 15.5]]))"
      ]
     },
     "execution_count": 65,
     "metadata": {},
     "output_type": "execute_result"
    }
   ],
   "source": [
    "chi2, pval, degf, expected = stats.chi2_contingency(table)\n",
    "chi2, pval, degf, expected"
   ]
  },
  {
   "cell_type": "code",
   "execution_count": 68,
   "id": "642e552d",
   "metadata": {},
   "outputs": [
    {
     "data": {
      "text/html": [
       "<div>\n",
       "<style scoped>\n",
       "    .dataframe tbody tr th:only-of-type {\n",
       "        vertical-align: middle;\n",
       "    }\n",
       "\n",
       "    .dataframe tbody tr th {\n",
       "        vertical-align: top;\n",
       "    }\n",
       "\n",
       "    .dataframe thead th {\n",
       "        text-align: right;\n",
       "    }\n",
       "</style>\n",
       "<table border=\"1\" class=\"dataframe\">\n",
       "  <thead>\n",
       "    <tr style=\"text-align: right;\">\n",
       "      <th>fl</th>\n",
       "      <th>c</th>\n",
       "      <th>d</th>\n",
       "      <th>e</th>\n",
       "      <th>p</th>\n",
       "      <th>r</th>\n",
       "    </tr>\n",
       "    <tr>\n",
       "      <th>drv</th>\n",
       "      <th></th>\n",
       "      <th></th>\n",
       "      <th></th>\n",
       "      <th></th>\n",
       "      <th></th>\n",
       "    </tr>\n",
       "  </thead>\n",
       "  <tbody>\n",
       "    <tr>\n",
       "      <th>4</th>\n",
       "      <td>0</td>\n",
       "      <td>2</td>\n",
       "      <td>6</td>\n",
       "      <td>20</td>\n",
       "      <td>75</td>\n",
       "    </tr>\n",
       "    <tr>\n",
       "      <th>f</th>\n",
       "      <td>1</td>\n",
       "      <td>3</td>\n",
       "      <td>1</td>\n",
       "      <td>25</td>\n",
       "      <td>76</td>\n",
       "    </tr>\n",
       "    <tr>\n",
       "      <th>r</th>\n",
       "      <td>0</td>\n",
       "      <td>0</td>\n",
       "      <td>1</td>\n",
       "      <td>7</td>\n",
       "      <td>17</td>\n",
       "    </tr>\n",
       "  </tbody>\n",
       "</table>\n",
       "</div>"
      ],
      "text/plain": [
       "fl   c  d  e   p   r\n",
       "drv                 \n",
       "4    0  2  6  20  75\n",
       "f    1  3  1  25  76\n",
       "r    0  0  1   7  17"
      ]
     },
     "execution_count": 68,
     "metadata": {},
     "output_type": "execute_result"
    }
   ],
   "source": [
    "# Choose another 2 categorical variables from the mpg dataset and perform a \n",
    "df=data('mpg')\n",
    "df.nunique()\n",
    "# chi2\n",
    "# contingency table test with them. Be sure to state your null and alternative hypotheses.\n",
    "a = pd.crosstab(mpg.drv, mpg.fl)\n",
    "a"
   ]
  },
  {
   "cell_type": "code",
   "execution_count": 69,
   "id": "2fe7da4e",
   "metadata": {},
   "outputs": [
    {
     "data": {
      "text/plain": [
       "(6.561829351267893,\n",
       " 0.5845579584206677,\n",
       " 8,\n",
       " array([[ 0.44017094,  2.2008547 ,  3.52136752, 22.88888889, 73.94871795],\n",
       "        [ 0.45299145,  2.26495726,  3.62393162, 23.55555556, 76.1025641 ],\n",
       "        [ 0.10683761,  0.53418803,  0.85470085,  5.55555556, 17.94871795]]))"
      ]
     },
     "execution_count": 69,
     "metadata": {},
     "output_type": "execute_result"
    }
   ],
   "source": [
    "chi2, pval, degf, expected = stats.chi2_contingency(a)\n",
    "chi2, pval, degf, expected"
   ]
  },
  {
   "cell_type": "code",
   "execution_count": 74,
   "id": "a13746c1",
   "metadata": {},
   "outputs": [
    {
     "data": {
      "text/html": [
       "<div>\n",
       "<style scoped>\n",
       "    .dataframe tbody tr th:only-of-type {\n",
       "        vertical-align: middle;\n",
       "    }\n",
       "\n",
       "    .dataframe tbody tr th {\n",
       "        vertical-align: top;\n",
       "    }\n",
       "\n",
       "    .dataframe thead th {\n",
       "        text-align: right;\n",
       "    }\n",
       "</style>\n",
       "<table border=\"1\" class=\"dataframe\">\n",
       "  <thead>\n",
       "    <tr style=\"text-align: right;\">\n",
       "      <th></th>\n",
       "      <th>Full Name</th>\n",
       "      <th>Gender</th>\n",
       "      <th>Department</th>\n",
       "    </tr>\n",
       "  </thead>\n",
       "  <tbody>\n",
       "    <tr>\n",
       "      <th>144419</th>\n",
       "      <td>Cristinel Bouloucos</td>\n",
       "      <td>F</td>\n",
       "      <td>Marketing</td>\n",
       "    </tr>\n",
       "    <tr>\n",
       "      <th>144420</th>\n",
       "      <td>Georgy Dredge</td>\n",
       "      <td>M</td>\n",
       "      <td>Marketing</td>\n",
       "    </tr>\n",
       "    <tr>\n",
       "      <th>144421</th>\n",
       "      <td>Berhard McFarlin</td>\n",
       "      <td>M</td>\n",
       "      <td>Marketing</td>\n",
       "    </tr>\n",
       "    <tr>\n",
       "      <th>144422</th>\n",
       "      <td>Lunjin Giveon</td>\n",
       "      <td>M</td>\n",
       "      <td>Marketing</td>\n",
       "    </tr>\n",
       "    <tr>\n",
       "      <th>144423</th>\n",
       "      <td>Yucel Auria</td>\n",
       "      <td>F</td>\n",
       "      <td>Marketing</td>\n",
       "    </tr>\n",
       "    <tr>\n",
       "      <th>...</th>\n",
       "      <td>...</td>\n",
       "      <td>...</td>\n",
       "      <td>...</td>\n",
       "    </tr>\n",
       "    <tr>\n",
       "      <th>331598</th>\n",
       "      <td>Guozhong Felder</td>\n",
       "      <td>M</td>\n",
       "      <td>Sales</td>\n",
       "    </tr>\n",
       "    <tr>\n",
       "      <th>331599</th>\n",
       "      <td>Gino Usery</td>\n",
       "      <td>M</td>\n",
       "      <td>Sales</td>\n",
       "    </tr>\n",
       "    <tr>\n",
       "      <th>331600</th>\n",
       "      <td>Nathan Ranta</td>\n",
       "      <td>F</td>\n",
       "      <td>Sales</td>\n",
       "    </tr>\n",
       "    <tr>\n",
       "      <th>331601</th>\n",
       "      <td>Rimli Dusink</td>\n",
       "      <td>F</td>\n",
       "      <td>Sales</td>\n",
       "    </tr>\n",
       "    <tr>\n",
       "      <th>331602</th>\n",
       "      <td>Bangqing Kleiser</td>\n",
       "      <td>F</td>\n",
       "      <td>Sales</td>\n",
       "    </tr>\n",
       "  </tbody>\n",
       "</table>\n",
       "<p>72456 rows × 3 columns</p>\n",
       "</div>"
      ],
      "text/plain": [
       "                  Full Name Gender Department\n",
       "144419  Cristinel Bouloucos      F  Marketing\n",
       "144420        Georgy Dredge      M  Marketing\n",
       "144421     Berhard McFarlin      M  Marketing\n",
       "144422        Lunjin Giveon      M  Marketing\n",
       "144423          Yucel Auria      F  Marketing\n",
       "...                     ...    ...        ...\n",
       "331598      Guozhong Felder      M      Sales\n",
       "331599           Gino Usery      M      Sales\n",
       "331600         Nathan Ranta      F      Sales\n",
       "331601         Rimli Dusink      F      Sales\n",
       "331602     Bangqing Kleiser      F      Sales\n",
       "\n",
       "[72456 rows x 3 columns]"
      ]
     },
     "execution_count": 74,
     "metadata": {},
     "output_type": "execute_result"
    }
   ],
   "source": [
    "# Use the data from the employees database to answer these questions:\n",
    "url = get_db_url('employees')\n",
    "query = ''' \n",
    "        select concat(first_name,' ',last_name)as 'Full Name',gender as 'Gender',dept_name as 'Department' from employees \n",
    "        join dept_emp using(emp_no)\n",
    "        join departments using (dept_no);\n",
    "        '''\n",
    "df = pd.read_sql(query, url)\n",
    "df2 = df[(df.Department == 'Sales') | (df.Department == 'Marketing')]\n",
    "df2"
   ]
  },
  {
   "cell_type": "code",
   "execution_count": 77,
   "id": "cb546584",
   "metadata": {},
   "outputs": [
    {
     "data": {
      "text/html": [
       "<div>\n",
       "<style scoped>\n",
       "    .dataframe tbody tr th:only-of-type {\n",
       "        vertical-align: middle;\n",
       "    }\n",
       "\n",
       "    .dataframe tbody tr th {\n",
       "        vertical-align: top;\n",
       "    }\n",
       "\n",
       "    .dataframe thead th {\n",
       "        text-align: right;\n",
       "    }\n",
       "</style>\n",
       "<table border=\"1\" class=\"dataframe\">\n",
       "  <thead>\n",
       "    <tr style=\"text-align: right;\">\n",
       "      <th>Department</th>\n",
       "      <th>Marketing</th>\n",
       "      <th>Sales</th>\n",
       "    </tr>\n",
       "    <tr>\n",
       "      <th>Gender</th>\n",
       "      <th></th>\n",
       "      <th></th>\n",
       "    </tr>\n",
       "  </thead>\n",
       "  <tbody>\n",
       "    <tr>\n",
       "      <th>F</th>\n",
       "      <td>8037</td>\n",
       "      <td>20854</td>\n",
       "    </tr>\n",
       "    <tr>\n",
       "      <th>M</th>\n",
       "      <td>12174</td>\n",
       "      <td>31391</td>\n",
       "    </tr>\n",
       "  </tbody>\n",
       "</table>\n",
       "</div>"
      ],
      "text/plain": [
       "Department  Marketing  Sales\n",
       "Gender                      \n",
       "F                8037  20854\n",
       "M               12174  31391"
      ]
     },
     "execution_count": 77,
     "metadata": {},
     "output_type": "execute_result"
    }
   ],
   "source": [
    "# Is an employee's gender independent of whether an employee works in sales or marketing? \n",
    "# (only look at current employees)\n",
    "a = pd.crosstab(df2.Gender, df2.Department)\n",
    "a"
   ]
  },
  {
   "cell_type": "code",
   "execution_count": 80,
   "id": "0bfdb4b8",
   "metadata": {},
   "outputs": [
    {
     "data": {
      "text/plain": [
       "(0.13113229997285258,\n",
       " 0.7172609083882837,\n",
       " 1,\n",
       " array([[ 8058.90472839, 20832.09527161],\n",
       "        [12152.09527161, 31412.90472839]]))"
      ]
     },
     "execution_count": 80,
     "metadata": {},
     "output_type": "execute_result"
    }
   ],
   "source": [
    "chi2, pval, degf, expected = stats.chi2_contingency(a)\n",
    "chi2, pval, degf, expected"
   ]
  },
  {
   "cell_type": "code",
   "execution_count": 81,
   "id": "11248168",
   "metadata": {},
   "outputs": [
    {
     "data": {
      "text/plain": [
       "False"
      ]
     },
     "execution_count": 81,
     "metadata": {},
     "output_type": "execute_result"
    }
   ],
   "source": [
    "pval < α"
   ]
  },
  {
   "cell_type": "code",
   "execution_count": 98,
   "id": "ecad4528",
   "metadata": {
    "scrolled": true
   },
   "outputs": [
    {
     "data": {
      "text/html": [
       "<div>\n",
       "<style scoped>\n",
       "    .dataframe tbody tr th:only-of-type {\n",
       "        vertical-align: middle;\n",
       "    }\n",
       "\n",
       "    .dataframe tbody tr th {\n",
       "        vertical-align: top;\n",
       "    }\n",
       "\n",
       "    .dataframe thead th {\n",
       "        text-align: right;\n",
       "    }\n",
       "</style>\n",
       "<table border=\"1\" class=\"dataframe\">\n",
       "  <thead>\n",
       "    <tr style=\"text-align: right;\">\n",
       "      <th></th>\n",
       "      <th>Employees#</th>\n",
       "      <th>Gender</th>\n",
       "      <th>Was_Manager</th>\n",
       "    </tr>\n",
       "  </thead>\n",
       "  <tbody>\n",
       "    <tr>\n",
       "      <th>0</th>\n",
       "      <td>110022</td>\n",
       "      <td>M</td>\n",
       "      <td>1</td>\n",
       "    </tr>\n",
       "    <tr>\n",
       "      <th>1</th>\n",
       "      <td>110039</td>\n",
       "      <td>M</td>\n",
       "      <td>1</td>\n",
       "    </tr>\n",
       "    <tr>\n",
       "      <th>2</th>\n",
       "      <td>110085</td>\n",
       "      <td>M</td>\n",
       "      <td>1</td>\n",
       "    </tr>\n",
       "    <tr>\n",
       "      <th>3</th>\n",
       "      <td>110114</td>\n",
       "      <td>F</td>\n",
       "      <td>1</td>\n",
       "    </tr>\n",
       "    <tr>\n",
       "      <th>4</th>\n",
       "      <td>110183</td>\n",
       "      <td>F</td>\n",
       "      <td>1</td>\n",
       "    </tr>\n",
       "    <tr>\n",
       "      <th>5</th>\n",
       "      <td>110228</td>\n",
       "      <td>F</td>\n",
       "      <td>1</td>\n",
       "    </tr>\n",
       "    <tr>\n",
       "      <th>6</th>\n",
       "      <td>110303</td>\n",
       "      <td>F</td>\n",
       "      <td>1</td>\n",
       "    </tr>\n",
       "    <tr>\n",
       "      <th>7</th>\n",
       "      <td>110344</td>\n",
       "      <td>F</td>\n",
       "      <td>1</td>\n",
       "    </tr>\n",
       "    <tr>\n",
       "      <th>8</th>\n",
       "      <td>110386</td>\n",
       "      <td>M</td>\n",
       "      <td>1</td>\n",
       "    </tr>\n",
       "    <tr>\n",
       "      <th>9</th>\n",
       "      <td>110420</td>\n",
       "      <td>M</td>\n",
       "      <td>1</td>\n",
       "    </tr>\n",
       "    <tr>\n",
       "      <th>10</th>\n",
       "      <td>110511</td>\n",
       "      <td>M</td>\n",
       "      <td>1</td>\n",
       "    </tr>\n",
       "    <tr>\n",
       "      <th>11</th>\n",
       "      <td>110567</td>\n",
       "      <td>F</td>\n",
       "      <td>1</td>\n",
       "    </tr>\n",
       "    <tr>\n",
       "      <th>12</th>\n",
       "      <td>110725</td>\n",
       "      <td>F</td>\n",
       "      <td>1</td>\n",
       "    </tr>\n",
       "    <tr>\n",
       "      <th>13</th>\n",
       "      <td>110765</td>\n",
       "      <td>F</td>\n",
       "      <td>1</td>\n",
       "    </tr>\n",
       "    <tr>\n",
       "      <th>14</th>\n",
       "      <td>110800</td>\n",
       "      <td>F</td>\n",
       "      <td>1</td>\n",
       "    </tr>\n",
       "    <tr>\n",
       "      <th>15</th>\n",
       "      <td>110854</td>\n",
       "      <td>M</td>\n",
       "      <td>1</td>\n",
       "    </tr>\n",
       "    <tr>\n",
       "      <th>16</th>\n",
       "      <td>111035</td>\n",
       "      <td>M</td>\n",
       "      <td>1</td>\n",
       "    </tr>\n",
       "    <tr>\n",
       "      <th>17</th>\n",
       "      <td>111133</td>\n",
       "      <td>M</td>\n",
       "      <td>1</td>\n",
       "    </tr>\n",
       "    <tr>\n",
       "      <th>18</th>\n",
       "      <td>111400</td>\n",
       "      <td>M</td>\n",
       "      <td>1</td>\n",
       "    </tr>\n",
       "    <tr>\n",
       "      <th>19</th>\n",
       "      <td>111534</td>\n",
       "      <td>F</td>\n",
       "      <td>1</td>\n",
       "    </tr>\n",
       "    <tr>\n",
       "      <th>20</th>\n",
       "      <td>111692</td>\n",
       "      <td>F</td>\n",
       "      <td>1</td>\n",
       "    </tr>\n",
       "    <tr>\n",
       "      <th>21</th>\n",
       "      <td>111784</td>\n",
       "      <td>F</td>\n",
       "      <td>1</td>\n",
       "    </tr>\n",
       "    <tr>\n",
       "      <th>22</th>\n",
       "      <td>111877</td>\n",
       "      <td>F</td>\n",
       "      <td>1</td>\n",
       "    </tr>\n",
       "    <tr>\n",
       "      <th>23</th>\n",
       "      <td>111939</td>\n",
       "      <td>M</td>\n",
       "      <td>1</td>\n",
       "    </tr>\n",
       "  </tbody>\n",
       "</table>\n",
       "</div>"
      ],
      "text/plain": [
       "    Employees# Gender  Was_Manager\n",
       "0       110022      M            1\n",
       "1       110039      M            1\n",
       "2       110085      M            1\n",
       "3       110114      F            1\n",
       "4       110183      F            1\n",
       "5       110228      F            1\n",
       "6       110303      F            1\n",
       "7       110344      F            1\n",
       "8       110386      M            1\n",
       "9       110420      M            1\n",
       "10      110511      M            1\n",
       "11      110567      F            1\n",
       "12      110725      F            1\n",
       "13      110765      F            1\n",
       "14      110800      F            1\n",
       "15      110854      M            1\n",
       "16      111035      M            1\n",
       "17      111133      M            1\n",
       "18      111400      M            1\n",
       "19      111534      F            1\n",
       "20      111692      F            1\n",
       "21      111784      F            1\n",
       "22      111877      F            1\n",
       "23      111939      M            1"
      ]
     },
     "execution_count": 98,
     "metadata": {},
     "output_type": "execute_result"
    }
   ],
   "source": [
    "# Is an employee's gender independent of whether or not they are or have been a manager?\n",
    "query = '''SELECT emp_no as 'Employees#', gender as 'Gender',IF (emp_no in (SELECT emp_no FROM dept_manager), True, False) AS 'Was_Manager' \n",
    "\t\tFROM employees\n",
    "        JOIN dept_emp USING (emp_no)\n",
    "        JOIN dept_manager USING (emp_no)\n",
    "        WHERE dept_emp.to_date > CURDATE();'''\n",
    "df = pd.read_sql(query, url)\n",
    "df"
   ]
  },
  {
   "cell_type": "code",
   "execution_count": 100,
   "id": "fd673a08",
   "metadata": {},
   "outputs": [
    {
     "data": {
      "text/html": [
       "<div>\n",
       "<style scoped>\n",
       "    .dataframe tbody tr th:only-of-type {\n",
       "        vertical-align: middle;\n",
       "    }\n",
       "\n",
       "    .dataframe tbody tr th {\n",
       "        vertical-align: top;\n",
       "    }\n",
       "\n",
       "    .dataframe thead th {\n",
       "        text-align: right;\n",
       "    }\n",
       "</style>\n",
       "<table border=\"1\" class=\"dataframe\">\n",
       "  <thead>\n",
       "    <tr style=\"text-align: right;\">\n",
       "      <th>Was_Manager</th>\n",
       "      <th>1</th>\n",
       "    </tr>\n",
       "    <tr>\n",
       "      <th>Gender</th>\n",
       "      <th></th>\n",
       "    </tr>\n",
       "  </thead>\n",
       "  <tbody>\n",
       "    <tr>\n",
       "      <th>F</th>\n",
       "      <td>13</td>\n",
       "    </tr>\n",
       "    <tr>\n",
       "      <th>M</th>\n",
       "      <td>11</td>\n",
       "    </tr>\n",
       "  </tbody>\n",
       "</table>\n",
       "</div>"
      ],
      "text/plain": [
       "Was_Manager   1\n",
       "Gender         \n",
       "F            13\n",
       "M            11"
      ]
     },
     "execution_count": 100,
     "metadata": {},
     "output_type": "execute_result"
    }
   ],
   "source": [
    "q = pd.crosstab(df.Gender, df.Was_Manager)\n",
    "q"
   ]
  },
  {
   "cell_type": "code",
   "execution_count": 147,
   "id": "f6ec56a0",
   "metadata": {},
   "outputs": [
    {
     "name": "stdout",
     "output_type": "stream",
     "text": [
      "Observed\n",
      "\n",
      "[[13]\n",
      " [11]]\n",
      "---\n",
      "Expected\n",
      "\n",
      "[[13.]\n",
      " [11.]]\n",
      "---\n",
      "\n",
      "chi^2 = 0.0000\n",
      "pval  = 1.0000\n",
      "degf  = 0.0000\n"
     ]
    }
   ],
   "source": [
    "chi2, pval, degf, expected = stats.chi2_contingency(q)\n",
    "print('Observed\\n')\n",
    "print(q.values)\n",
    "print('---\\nExpected\\n')\n",
    "print(expected)\n",
    "print('---\\n')\n",
    "print(f'chi^2 = {chi2:.4f}')\n",
    "print(f'pval  = {pval:.4f}')\n",
    "print(f'degf  = {degf:.4f}')"
   ]
  },
  {
   "cell_type": "code",
   "execution_count": null,
   "id": "79d9d1c3",
   "metadata": {},
   "outputs": [],
   "source": []
  }
 ],
 "metadata": {
  "kernelspec": {
   "display_name": "Python 3 (ipykernel)",
   "language": "python",
   "name": "python3"
  },
  "language_info": {
   "codemirror_mode": {
    "name": "ipython",
    "version": 3
   },
   "file_extension": ".py",
   "mimetype": "text/x-python",
   "name": "python",
   "nbconvert_exporter": "python",
   "pygments_lexer": "ipython3",
   "version": "3.9.12"
  }
 },
 "nbformat": 4,
 "nbformat_minor": 5
}
