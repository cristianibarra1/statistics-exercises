{
 "cells": [
  {
   "cell_type": "code",
   "execution_count": 118,
   "id": "75792d1f",
   "metadata": {},
   "outputs": [
    {
     "data": {
      "text/plain": [
       "7.5"
      ]
     },
     "execution_count": 118,
     "metadata": {},
     "output_type": "execute_result"
    }
   ],
   "source": [
    "import pandas as pd \n",
    "import numpy as np \n",
    "import math as m\n",
    "1.5*5"
   ]
  },
  {
   "cell_type": "code",
   "execution_count": 145,
   "id": "c491ecbc",
   "metadata": {},
   "outputs": [
    {
     "data": {
      "text/html": [
       "<div>\n",
       "<style scoped>\n",
       "    .dataframe tbody tr th:only-of-type {\n",
       "        vertical-align: middle;\n",
       "    }\n",
       "\n",
       "    .dataframe tbody tr th {\n",
       "        vertical-align: top;\n",
       "    }\n",
       "\n",
       "    .dataframe thead th {\n",
       "        text-align: right;\n",
       "    }\n",
       "</style>\n",
       "<table border=\"1\" class=\"dataframe\">\n",
       "  <thead>\n",
       "    <tr style=\"text-align: right;\">\n",
       "      <th></th>\n",
       "      <th>0</th>\n",
       "      <th>1</th>\n",
       "    </tr>\n",
       "  </thead>\n",
       "  <tbody>\n",
       "    <tr>\n",
       "      <th>4</th>\n",
       "      <td>1</td>\n",
       "      <td>1</td>\n",
       "    </tr>\n",
       "    <tr>\n",
       "      <th>11</th>\n",
       "      <td>6</td>\n",
       "      <td>6</td>\n",
       "    </tr>\n",
       "    <tr>\n",
       "      <th>13</th>\n",
       "      <td>2</td>\n",
       "      <td>2</td>\n",
       "    </tr>\n",
       "    <tr>\n",
       "      <th>19</th>\n",
       "      <td>5</td>\n",
       "      <td>5</td>\n",
       "    </tr>\n",
       "    <tr>\n",
       "      <th>21</th>\n",
       "      <td>4</td>\n",
       "      <td>4</td>\n",
       "    </tr>\n",
       "    <tr>\n",
       "      <th>...</th>\n",
       "      <td>...</td>\n",
       "      <td>...</td>\n",
       "    </tr>\n",
       "    <tr>\n",
       "      <th>973</th>\n",
       "      <td>5</td>\n",
       "      <td>5</td>\n",
       "    </tr>\n",
       "    <tr>\n",
       "      <th>980</th>\n",
       "      <td>4</td>\n",
       "      <td>4</td>\n",
       "    </tr>\n",
       "    <tr>\n",
       "      <th>981</th>\n",
       "      <td>6</td>\n",
       "      <td>6</td>\n",
       "    </tr>\n",
       "    <tr>\n",
       "      <th>984</th>\n",
       "      <td>5</td>\n",
       "      <td>5</td>\n",
       "    </tr>\n",
       "    <tr>\n",
       "      <th>999</th>\n",
       "      <td>1</td>\n",
       "      <td>1</td>\n",
       "    </tr>\n",
       "  </tbody>\n",
       "</table>\n",
       "<p>151 rows × 2 columns</p>\n",
       "</div>"
      ],
      "text/plain": [
       "     0  1\n",
       "4    1  1\n",
       "11   6  6\n",
       "13   2  2\n",
       "19   5  5\n",
       "21   4  4\n",
       "..  .. ..\n",
       "973  5  5\n",
       "980  4  4\n",
       "981  6  6\n",
       "984  5  5\n",
       "999  1  1\n",
       "\n",
       "[151 rows x 2 columns]"
      ]
     },
     "execution_count": 145,
     "metadata": {},
     "output_type": "execute_result"
    }
   ],
   "source": [
    "# How likely is it that you roll doubles when rolling two dice?\n",
    "n_trials = 1000\n",
    "n_dice = 2\n",
    "dice_rolls='1','2','3','4','5','6'\n",
    "rolls = np.random.choice(dice_rolls, (n_trials , n_dice)).reshape(n_trials,n_dice)\n",
    "rolls = pd.DataFrame(rolls)\n",
    "same=rolls[rolls[0] == rolls[1]]\n",
    "same"
   ]
  },
  {
   "cell_type": "code",
   "execution_count": 75,
   "id": "c98ab9c2",
   "metadata": {},
   "outputs": [
    {
     "data": {
      "text/plain": [
       "0.96509"
      ]
     },
     "execution_count": 75,
     "metadata": {},
     "output_type": "execute_result"
    }
   ],
   "source": [
    "# If you flip 8 coins, what is the probability of getting exactly 3 heads? \n",
    "# What is the probability of getting more than 3 heads?\n",
    "tries=8\n",
    "varible='H','T'\n",
    "trials=100_000\n",
    "coins=np.random.choice(varible,(trials,tries))\n",
    "heads=(coins == 'H').sum(axis=1)\n",
    "heads >= 3\n",
    "(heads >= 2).mean()"
   ]
  },
  {
   "cell_type": "code",
   "execution_count": 84,
   "id": "a019f489",
   "metadata": {},
   "outputs": [
    {
     "data": {
      "text/plain": [
       "0.06281"
      ]
     },
     "execution_count": 84,
     "metadata": {},
     "output_type": "execute_result"
    }
   ],
   "source": [
    "# There are approximitely 3 web development cohorts for every 1 data science cohort at Codeup. \n",
    "# Assuming that Codeup randomly selects an alumni to put on a billboard, what are the odds that the two billboards \n",
    "# I drive past both have data science students on them?\n",
    "vary='D','W','W','W'\n",
    "trial=100000\n",
    "tries=2\n",
    "billboard=np.random.choice(vary,(trial,tries))\n",
    "data=(billboard=='D').sum(axis=1)\n",
    "data==2\n",
    "(data==2).mean()"
   ]
  },
  {
   "cell_type": "code",
   "execution_count": 123,
   "id": "cd0ed7a9",
   "metadata": {},
   "outputs": [
    {
     "name": "stdout",
     "output_type": "stream",
     "text": [
      "17.045684973576737\n"
     ]
    },
    {
     "data": {
      "text/plain": [
       "<AxesSubplot:>"
      ]
     },
     "execution_count": 123,
     "metadata": {},
     "output_type": "execute_result"
    },
    {
     "data": {
      "image/png": "[encoded data removed]",
      "text/plain": [
       "<Figure size 432x288 with 1 Axes>"
      ]
     },
     "metadata": {
      "needs_background": "light"
     },
     "output_type": "display_data"
    }
   ],
   "source": [
    "# Codeup students buy, on average, 3 poptart packages with a standard deviation of 1.5 a day \n",
    "# from the snack vending machine. If on monday the machine is restocked with 17 poptart packages, \n",
    "# how likely is it that I will be able to buy some poptarts on Friday afternoon? \n",
    "# (Remember, if you have mean and standard deviation, use the np.random.normal)\n",
    "# You'll need to make a judgement call on how to handle some of your values\n",
    "\n",
    "pd.Series(np.random.normal(17, 7.5, size=10_000)).mean()\n",
    "print(pd.Series(np.random.normal(17, 7.5, size=10_000)).mean())\n",
    "pd.Series(np.random.normal(17, 7.5, size=10_000)).hist()"
   ]
  },
  {
   "cell_type": "code",
   "execution_count": 233,
   "id": "06ad4762",
   "metadata": {},
   "outputs": [
    {
     "data": {
      "text/html": [
       "<div>\n",
       "<style scoped>\n",
       "    .dataframe tbody tr th:only-of-type {\n",
       "        vertical-align: middle;\n",
       "    }\n",
       "\n",
       "    .dataframe tbody tr th {\n",
       "        vertical-align: top;\n",
       "    }\n",
       "\n",
       "    .dataframe thead th {\n",
       "        text-align: right;\n",
       "    }\n",
       "</style>\n",
       "<table border=\"1\" class=\"dataframe\">\n",
       "  <thead>\n",
       "    <tr style=\"text-align: right;\">\n",
       "      <th></th>\n",
       "      <th>0</th>\n",
       "    </tr>\n",
       "  </thead>\n",
       "  <tbody>\n",
       "    <tr>\n",
       "      <th>174.017940</th>\n",
       "      <td>183.165934</td>\n",
       "    </tr>\n",
       "    <tr>\n",
       "      <th>180.781161</th>\n",
       "      <td>163.157476</td>\n",
       "    </tr>\n",
       "    <tr>\n",
       "      <th>173.621713</th>\n",
       "      <td>178.619777</td>\n",
       "    </tr>\n",
       "    <tr>\n",
       "      <th>174.057042</th>\n",
       "      <td>175.840495</td>\n",
       "    </tr>\n",
       "    <tr>\n",
       "      <th>170.067981</th>\n",
       "      <td>177.969522</td>\n",
       "    </tr>\n",
       "    <tr>\n",
       "      <th>...</th>\n",
       "      <td>...</td>\n",
       "    </tr>\n",
       "    <tr>\n",
       "      <th>175.552696</th>\n",
       "      <td>177.209491</td>\n",
       "    </tr>\n",
       "    <tr>\n",
       "      <th>170.200662</th>\n",
       "      <td>185.645408</td>\n",
       "    </tr>\n",
       "    <tr>\n",
       "      <th>163.456486</th>\n",
       "      <td>178.032144</td>\n",
       "    </tr>\n",
       "    <tr>\n",
       "      <th>161.815699</th>\n",
       "      <td>173.322186</td>\n",
       "    </tr>\n",
       "    <tr>\n",
       "      <th>160.647150</th>\n",
       "      <td>164.237879</td>\n",
       "    </tr>\n",
       "  </tbody>\n",
       "</table>\n",
       "<p>100 rows × 1 columns</p>\n",
       "</div>"
      ],
      "text/plain": [
       "                     0\n",
       "174.017940  183.165934\n",
       "180.781161  163.157476\n",
       "173.621713  178.619777\n",
       "174.057042  175.840495\n",
       "170.067981  177.969522\n",
       "...                ...\n",
       "175.552696  177.209491\n",
       "170.200662  185.645408\n",
       "163.456486  178.032144\n",
       "161.815699  173.322186\n",
       "160.647150  164.237879\n",
       "\n",
       "[100 rows x 1 columns]"
      ]
     },
     "execution_count": 233,
     "metadata": {},
     "output_type": "execute_result"
    }
   ],
   "source": [
    "# Compare Heights\n",
    "\n",
    "# Men have an average height of 178 cm and standard deviation of 8cm.\n",
    "# Women have a mean of 170, sd = 6cm.\n",
    "# Since you have means and standard deviations, you can use np.random.normal to generate observations.\n",
    "# If a man and woman are chosen at random, what is the likelihood the woman is taller than the man?\n",
    "mu, sigma = 178, 8 # mean and standard deviation\n",
    "fu, ba = 170, 6\n",
    "m = np.random.normal(mu, sigma,100)\n",
    "f = np.random.normal(fu, ba,100)\n",
    "empty=[]\n",
    "vary = pd.DataFrame(m,f)\n",
    "vary"
   ]
  },
  {
   "cell_type": "code",
   "execution_count": 224,
   "id": "716e4fef",
   "metadata": {},
   "outputs": [
    {
     "data": {
      "text/plain": [
       "0    0.277778\n",
       "dtype: float64"
      ]
     },
     "execution_count": 224,
     "metadata": {},
     "output_type": "execute_result"
    }
   ],
   "source": [
    "# When installing anaconda on a student's computer, there's a 1 in 250 chance that the download is \n",
    "# corrupted and the installation fails. What are the odds that after having 50 students download anaconda, \n",
    "# no one has an installation issue? 100 students?\n",
    "vary=round(np.random.uniform(1,250))\n",
    "tries=51\n",
    "trials=1\n",
    "random=np.random.choice(vary,(tries,trials))\n",
    "same=random==2\n",
    "same = pd.DataFrame(same)\n",
    "same.mean()\n",
    "# What is the probability that we observe an installation issue within the first 150 students that download anaconda?\n",
    "vary=round(np.random.uniform(1,250))\n",
    "tries=151\n",
    "trials=1\n",
    "random=np.random.choice(vary,(tries,trials))\n",
    "same=random==2\n",
    "same = pd.DataFrame(same)\n",
    "same.mean()\n",
    "# How likely is it that 450 students all download anaconda without an issue?\n",
    "vary=round(np.random.uniform(1,250))\n",
    "tries=450\n",
    "trials=1\n",
    "random=np.random.choice(vary,(tries,trials))\n",
    "same=random==2\n",
    "same = pd.DataFrame(same)\n",
    "same.mean()"
   ]
  },
  {
   "cell_type": "code",
   "execution_count": 10,
   "id": "5e847a94",
   "metadata": {},
   "outputs": [],
   "source": [
    "# There's a 70% chance on any given day that there will be at least one food truck at Travis Park. \n",
    "# However, you haven't seen a food truck there in 3 days. How unlikely is this?\n",
    "days='M','T','W','Tr','F','S','Su'\n",
    "tries=3\n",
    "trial=\n",
    "\n",
    "# How likely is it that a food truck will show up sometime this week?"
   ]
  },
  {
   "cell_type": "code",
   "execution_count": 471,
   "id": "a4666263",
   "metadata": {},
   "outputs": [
    {
     "data": {
      "text/plain": [
       "0    1.0\n",
       "dtype: float64"
      ]
     },
     "execution_count": 471,
     "metadata": {},
     "output_type": "execute_result"
    }
   ],
   "source": [
    "# If 23 people are in the same room, what are the odds that two of them share a birthday? \n",
    "# What if it's 20 people? 40?\n",
    "trials=1\n",
    "tries=21\n",
    "birthday=range(1,365)\n",
    "pan=np.random.choice(birthday,(trials,tries))\n",
    "pan=pd.DataFrame(pan)\n",
    "unique=pan.nunique(axis=1)\n",
    "unique/20"
   ]
  },
  {
   "cell_type": "code",
   "execution_count": 473,
   "id": "16dcf119",
   "metadata": {},
   "outputs": [
    {
     "name": "stdout",
     "output_type": "stream",
     "text": [
      "range(1, 365)\n"
     ]
    },
    {
     "data": {
      "text/plain": [
       "1.025"
      ]
     },
     "execution_count": 473,
     "metadata": {},
     "output_type": "execute_result"
    }
   ],
   "source": [
    "# What if it's 20 people? 40?\n",
    "trials=1\n",
    "tries=41\n",
    "birthday=range(1,365)\n",
    "print(birthday)\n",
    "pan=np.random.choice(birthday,(trials,tries))\n",
    "pan=pd.DataFrame(pan)\n",
    "pan.nunique(axis=1).mean()/40\n"
   ]
  },
  {
   "cell_type": "code",
   "execution_count": 474,
   "id": "eef7b5a6",
   "metadata": {},
   "outputs": [
    {
     "data": {
      "text/html": [
       "<div>\n",
       "<style scoped>\n",
       "    .dataframe tbody tr th:only-of-type {\n",
       "        vertical-align: middle;\n",
       "    }\n",
       "\n",
       "    .dataframe tbody tr th {\n",
       "        vertical-align: top;\n",
       "    }\n",
       "\n",
       "    .dataframe thead th {\n",
       "        text-align: right;\n",
       "    }\n",
       "</style>\n",
       "<table border=\"1\" class=\"dataframe\">\n",
       "  <thead>\n",
       "    <tr style=\"text-align: right;\">\n",
       "      <th></th>\n",
       "      <th>0</th>\n",
       "      <th>1</th>\n",
       "      <th>2</th>\n",
       "      <th>3</th>\n",
       "      <th>4</th>\n",
       "      <th>5</th>\n",
       "      <th>6</th>\n",
       "      <th>7</th>\n",
       "      <th>8</th>\n",
       "      <th>9</th>\n",
       "      <th>...</th>\n",
       "      <th>31</th>\n",
       "      <th>32</th>\n",
       "      <th>33</th>\n",
       "      <th>34</th>\n",
       "      <th>35</th>\n",
       "      <th>36</th>\n",
       "      <th>37</th>\n",
       "      <th>38</th>\n",
       "      <th>39</th>\n",
       "      <th>40</th>\n",
       "    </tr>\n",
       "  </thead>\n",
       "  <tbody>\n",
       "    <tr>\n",
       "      <th>0</th>\n",
       "      <td>284</td>\n",
       "      <td>66</td>\n",
       "      <td>341</td>\n",
       "      <td>250</td>\n",
       "      <td>329</td>\n",
       "      <td>277</td>\n",
       "      <td>60</td>\n",
       "      <td>96</td>\n",
       "      <td>34</td>\n",
       "      <td>35</td>\n",
       "      <td>...</td>\n",
       "      <td>355</td>\n",
       "      <td>213</td>\n",
       "      <td>317</td>\n",
       "      <td>176</td>\n",
       "      <td>313</td>\n",
       "      <td>333</td>\n",
       "      <td>179</td>\n",
       "      <td>42</td>\n",
       "      <td>88</td>\n",
       "      <td>93</td>\n",
       "    </tr>\n",
       "  </tbody>\n",
       "</table>\n",
       "<p>1 rows × 41 columns</p>\n",
       "</div>"
      ],
      "text/plain": [
       "    0   1    2    3    4    5   6   7   8   9   ...   31   32   33   34   35  \\\n",
       "0  284  66  341  250  329  277  60  96  34  35  ...  355  213  317  176  313   \n",
       "\n",
       "    36   37  38  39  40  \n",
       "0  333  179  42  88  93  \n",
       "\n",
       "[1 rows x 41 columns]"
      ]
     },
     "execution_count": 474,
     "metadata": {},
     "output_type": "execute_result"
    }
   ],
   "source": [
    "same=(pan[pan[1]==pan[1]])\n",
    "same"
   ]
  }
 ],
 "metadata": {
  "kernelspec": {
   "display_name": "Python 3 (ipykernel)",
   "language": "python",
   "name": "python3"
  },
  "language_info": {
   "codemirror_mode": {
    "name": "ipython",
    "version": 3
   },
   "file_extension": ".py",
   "mimetype": "text/x-python",
   "name": "python",
   "nbconvert_exporter": "python",
   "pygments_lexer": "ipython3",
   "version": "3.9.12"
  }
 },
 "nbformat": 4,
 "nbformat_minor": 5
}
